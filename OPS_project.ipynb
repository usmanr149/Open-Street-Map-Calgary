{
 "cells": [
  {
   "cell_type": "code",
   "execution_count": 1,
   "metadata": {
    "collapsed": false
   },
   "outputs": [],
   "source": [
    "import xml.etree.cElementTree as ET\n",
    "from collections import defaultdict\n",
    "\n",
    "#First thing to do is to get the lisk of all k tags\n",
    "\n",
    "osmfile = 'mapSmall'\n",
    "\n",
    "list_of_k_types = set()\n",
    "osm_file = open(osmfile, \"r\")\n",
    "street_types = defaultdict(set)\n",
    "for event, elem in ET.iterparse(osm_file, events=(\"start\",)):\n",
    "    if elem.tag == \"node\" or elem.tag == \"way\":\n",
    "        for tag in elem.iter(\"tag\"):\n",
    "            list_of_k_types.add(tag.attrib['k'])\n",
    "osm_file.close()"
   ]
  },
  {
   "cell_type": "code",
   "execution_count": 2,
   "metadata": {
    "collapsed": false
   },
   "outputs": [],
   "source": [
    "#list_of_k_types"
   ]
  },
  {
   "cell_type": "code",
   "execution_count": 3,
   "metadata": {
    "collapsed": false
   },
   "outputs": [
    {
     "name": "stdout",
     "output_type": "stream",
     "text": [
      "{'West Creek Court', 'Grove Hill Road Southwest', '13 Avenue S.W.', 'Crossiron Boulevard', 'Macleod Trail', 'West Campus Place', '19 Street S.W.', 'Macleod Trail South', 'hidden creek rise nw', 'Crossiron Common', '523', '120 Avenue', 'Macleod Trail Southeast', '517', 'Acadia Drive', 'Maplemont Road', 'Elbow Drive', 'Lake Twintree Bay', 'Sage Valley Court Northwest', 'Wagon Wheel Way', 'Bonaventure Drive', 'Sunset Common', 'Bow Street', 'Strathcona Place Southwest', 'Wellington Cove', '16 Avenue NE;Trans-Canada Highway', 'Edgefield Place', 'WOODPARK BLVD S.W', 'Centre Street S', 'Coronado Place Northeast', 'MacLaurin Drive', 'Symons Valley Road N.W.', '4632 1st se', 'Center Street S', 'River Ave', 'Hawks Court Northwest', 'Oakfield Drive Southwest', '9 Avenue Southeast', '32 Avenue Northeast', 'Varsity Estates Road Northwest', 'Bracewood Cres', '72 Avenue Southeast', 'Montgomery View', '2452 Battleford Avenue S.W.', 'Macleod Trail S', '18A Street', '9th st', 'Indus Court', '30 Avenue Southwest', 'Nose Hill Drive', 'Grande Boulevard', 'Country Hills Landing', '14th St. N.E.', '3rd Avenue', 'MacLaurin Dr', 'Oakmount Court  South-west', 'Hawks Place Northwest', '4th Avenue', 'Ranche House Road', '1A Street S.E', '6th Street N.E.', 'Fireside Gate', 'Centre Street N', '2 street', '527', 'Rivercrest Drive South-east', 'Panorama Hills Boulevard', '4th Street', 'Westridge Road', 'Bowness Road Northwest', 'Harvest Hills Boulevard North', 'Country Hills Boulevard Northwest', 'West Creek Court 200', 'Township Road 224', 'Sunpark Plaza', 'Sage Valley Circle Northwest', '21', 'airport avenue n.e.\\n', 'Symons Valley Rd N.W', 'Country Hills Circle Northwest', 'Center St', '29 Avenue Southwest', '16 Avenue NW;Trans-Canada Highway', '18 Avenue Southwest', '38th Avenue N.E.', 'Park Avenue', 'Everhollow Manor  South-west', 'Lake Bonavista Drive', 'Mapleton Drive', 'Deerfield Manor Southeast', '41 Avenue Southwest', 'Stanley Road Southwest', \"Prince's Island Park\", '32nd Street East', '32nd Street, Okotoks, AB', 'Westmount Crescent', 'MacLeod Trail South East', 'River Avenue', '90 Avenue'}\n"
     ]
    }
   ],
   "source": [
    "#In the data cleaning process I will get rid of nodes that have a 'FIXME', 'FIXME-range' and 'FIXEM-range' \n",
    "#tags beccause I am not sure what they mean.\n",
    "\n",
    "#Couple of problems I have noticed with the data is that some addresses have Northeast written in them while others\n",
    "#have NE written in them. Same thing with other addresses. I am going to change all addresses to NE,SW,NW,NE and\n",
    "#get rid of any variations of these terms.\n",
    "\n",
    "#I have also noticed a problem with postal codes, some postal codes are written as t2m-0p2 while others are written\n",
    "#as T2M-0P2 or T2M 0P2 or T2M0P2. I will standardize all postal codes as T2M 0P2\n",
    "\n",
    "#Get a list of all bad street name:\n",
    "import re\n",
    "\n",
    "Acceptable_in_street_name = ['NW', 'NE', 'SW', 'SE']\n",
    "PROBLEMATIC_NAMES = re.compile('[=\\+/&<>;\\t\\r\\n]')\n",
    "list_of_bad_street_names = set()\n",
    "\n",
    "def is_street_name(elem):\n",
    "    return (elem.attrib['k'] == \"addr:street\")\n",
    "\n",
    "osm_file = open(osmfile, \"r\")\n",
    "for event, elem in ET.iterparse(osm_file, events=(\"start\",)):\n",
    "    if elem.tag == \"node\" or elem.tag == \"way\":\n",
    "        for tag in elem.iter(\"tag\"):\n",
    "            if is_street_name(tag):\n",
    "                problematic_address = True\n",
    "                m = PROBLEMATIC_NAMES.search(tag.attrib['v'])\n",
    "                if not m:\n",
    "                    for i in Acceptable_in_street_name:\n",
    "                        if(tag.attrib['v'].find(i)>0):\n",
    "                            problematic_address = False\n",
    "                            break\n",
    "                if(problematic_address):\n",
    "                    #build up a list of all bad names and then comment this portion out and fix the name\n",
    "                    list_of_bad_street_names.add(tag.attrib['v'])\n",
    "                    #update_name(tag.attrib['v'], mapping_to_right_name)\n",
    "osm_file.close()\n",
    "\n",
    "print(list_of_bad_street_names)"
   ]
  },
  {
   "cell_type": "code",
   "execution_count": 4,
   "metadata": {
    "collapsed": false
   },
   "outputs": [],
   "source": [
    "mapping_to_right_name={'Northeast': 'NE','N.E.': 'NE', 'n.e.\\n': 'NE', 'Northeast': 'NE', \n",
    "                       'nw': 'NW', 'Northwest': 'NW', 'N.W':'NW', 'Northwest': 'NW', 'N.W.': 'NW',\n",
    "                      'Southwest': 'SW', 'S.W.': 'SW', 'South-west': 'SW',  \n",
    "                      'Southeast': 'SE', 'S.E': 'SE',  'South-east': 'SE', 'se': 'SE'}\n",
    "\n",
    "#There is only once that a space in is used to specify South East\n",
    "Wrong_names_with_spaces={'South East': 'SE'}\n",
    "\n",
    "#This function will correct the name and return it.\n",
    "def update_name(name, mapping, map_names_with_spaces):\n",
    "    name = name.split(\" \")\n",
    "\n",
    "    for i in range(len(name)):\n",
    "        if name[i] in mapping:\n",
    "            name[i] = mapping[name[i]]\n",
    "        \n",
    "    name = \" \".join(name)\n",
    "    \n",
    "    for key in map_names_with_spaces:\n",
    "        if key in name:\n",
    "            name = name.replace(key, Wrong_names_with_spaces[key])\n",
    "\n",
    "    return name"
   ]
  },
  {
   "cell_type": "code",
   "execution_count": 5,
   "metadata": {
    "collapsed": true
   },
   "outputs": [],
   "source": [
    "#This function will correct the postal code and return it.\n",
    "def update_postal_code(postal_code):\n",
    "    LOWER_COLON = re.compile(r'^[a-z]|_-+:')\n",
    "    if(len(postal_code) == 6):\n",
    "        postal_code = [postal_code[:3],postal_code[3:] ]\n",
    "    else:\n",
    "        postal_code = postal_code.split(\"-\")\n",
    "    \n",
    "    postal_code = \" \".join(postal_code)\n",
    "    \n",
    "    postal_code = postal_code.upper()\n",
    "\n",
    "    return postal_code"
   ]
  },
  {
   "cell_type": "code",
   "execution_count": 6,
   "metadata": {
    "collapsed": false
   },
   "outputs": [],
   "source": [
    "#Now I will make the csv files\n",
    "\n",
    "import csv\n",
    "\n",
    "NODE_KEY = ['id', 'lat', 'lon', 'version', 'timestamp', 'uid']\n",
    "NODE_TAGS_FIELDS = ['id', 'key', 'value', 'type']\n",
    "WAY_FIELDS = ['id', 'user', 'uid', 'version', 'changeset', 'timestamp']\n",
    "WAY_TAGS_FIELDS = ['id', 'key', 'value', 'type']\n",
    "WAY_NODES_FIELDS = ['id', 'node_id', 'position']\n",
    "\n",
    "NODES_PATH = \"nodes.csv\"\n",
    "NODE_TAGS_PATH = \"nodes_tags.csv\"\n",
    "WAYS_PATH = \"ways.csv\"\n",
    "WAY_NODES_PATH = \"ways_nodes.csv\"\n",
    "WAY_TAGS_PATH = \"ways_tags.csv\"\n",
    "\n",
    "PROBLEMCHARS = re.compile(r'[=\\+/&<>;\\'\"\\?%#$@\\,\\. \\t\\r\\n]')\n",
    "PROBLEM_FIX = ['FIXME', 'FIXME-range', 'FIXEM-rnage']\n",
    "\n",
    "def shape_elements(elem):\n",
    "    #elem.attrib is a dictionary\n",
    "    if elem.tag == 'node':\n",
    "        node_attrib = elem.attrib\n",
    "        for key in node_attrib.copy():\n",
    "            if key not in NODE_KEY:\n",
    "                del node_attrib[key]\n",
    "        with open(NODES_PATH, 'a') as f:\n",
    "            w = csv.DictWriter(f, NODE_KEY)\n",
    "            w.writerow(node_attrib)\n",
    "        #Check if a node has tags\n",
    "        for tag in elem.iter('tag'):\n",
    "            empty_dict = {}\n",
    "            if (not PROBLEMCHARS.search(tag.attrib['k']) and tag.attrib['k'] not in PROBLEM_FIX):\n",
    "                if(tag.attrib['k'] == 'addr:street'):\n",
    "                    tag.attrib['v'] = update_name(tag.attrib['v'], mapping_to_right_name, Wrong_names_with_spaces)\n",
    "                if(tag.attrib['k'] == 'addr:postcode'):\n",
    "                    tag.attrib['v'] = update_postal_code(tag.attrib['v'])\n",
    "                if ':' in tag.attrib['k']:\n",
    "                    colon_pos = tag.attrib['k'].find(':')\n",
    "                    empty_dict['type'] = tag.attrib['k'][:colon_pos]\n",
    "                    empty_dict['key'] = tag.attrib['k'][colon_pos+1:]\n",
    "                else:\n",
    "                    empty_dict['type'] = 'regular'\n",
    "                    empty_dict['key'] = tag.attrib['k']\n",
    "                empty_dict['id'] = node_attrib['id']\n",
    "                empty_dict['value'] = tag.attrib['v']\n",
    "            with open(NODE_TAGS_PATH, 'a') as f:\n",
    "                w = csv.DictWriter(f, NODE_TAGS_FIELDS)\n",
    "                w.writerow(empty_dict)\n",
    "    \n",
    "    elif elem.tag == 'way':\n",
    "        way_attribs = elem.attrib\n",
    "        for key in way_attribs.copy():\n",
    "            if key not in WAY_FIELDS:\n",
    "                del way_attribs[key]\n",
    "        with open(WAYS_PATH, 'a') as f:\n",
    "            w = csv.DictWriter(f, WAY_FIELDS)\n",
    "            w.writerow(way_attribs)\n",
    "        for tag in elem.iter('tag'):\n",
    "            empty_dict = {}\n",
    "            if not PROBLEMCHARS.search(tag.attrib['k']):\n",
    "                if ':' in tag.attrib['k']:\n",
    "                    colon_pos = tag.attrib['k'].find(':')\n",
    "                    empty_dict['type'] = tag.attrib['k'][:colon_pos]\n",
    "                    empty_dict['key'] = tag.attrib['k'][colon_pos+1:]\n",
    "                else:\n",
    "                    empty_dict['type'] = 'regular'\n",
    "                    empty_dict['key'] = tag.attrib['k']\n",
    "                empty_dict['id'] = way_attribs['id']\n",
    "                empty_dict['value'] = tag.attrib['v']\n",
    "            with open(WAY_NODES_PATH, 'a') as f:\n",
    "                w = csv.DictWriter(f, WAY_TAGS_FIELDS)\n",
    "                w.writerow(empty_dict)\n",
    "        #This variable is to keep track of the node position\n",
    "        zig = -1\n",
    "        for nodes in elem.iter('nd'):\n",
    "            empty_dict = {}\n",
    "            zig+=1\n",
    "            empty_dict['id'] = way_attribs['id']\n",
    "            empty_dict['node_id'] = nodes.attrib['ref']\n",
    "            empty_dict['position'] = zig\n",
    "            with open(WAY_TAGS_PATH, 'a') as f:\n",
    "                w = csv.DictWriter(f, WAY_NODES_FIELDS)\n",
    "                w.writerow(empty_dict)"
   ]
  },
  {
   "cell_type": "code",
   "execution_count": 1,
   "metadata": {
    "collapsed": false
   },
   "outputs": [],
   "source": [
    "def audit(osmfile):\n",
    "    #These statements create a new file or overwrite one if it already exists and write the header line.\n",
    "    with open(NODES_PATH, 'w') as f:\n",
    "        w = csv.DictWriter(f, NODE_KEY)\n",
    "        w.writeheader()\n",
    "    #If the node has tag\n",
    "    with open(NODE_TAGS_PATH, 'w') as f:\n",
    "        w = csv.DictWriter(f, NODE_TAGS_FIELDS)\n",
    "        w.writeheader()\n",
    "    #For Ways\n",
    "    with open(WAYS_PATH, 'w') as f:\n",
    "        w = csv.DictWriter(f, WAY_FIELDS)\n",
    "        w.writeheader()\n",
    "    #For ways tags\n",
    "    with open(WAY_NODES_PATH, 'w') as f:\n",
    "        w = csv.DictWriter(f, WAY_TAGS_FIELDS)\n",
    "        w.writeheader()\n",
    "    #For ways tags\n",
    "    with open(WAY_TAGS_PATH, 'w') as f:\n",
    "        w = csv.DictWriter(f, WAY_NODES_FIELDS)\n",
    "        w.writeheader()\n",
    "        \n",
    "    osm_file = open(osmfile, \"r\")\n",
    "    \n",
    "    for event,elem in ET.iterparse(osm_file, events=(\"start\",)):\n",
    "        if elem.tag == 'node' or elem.tag == 'way':\n",
    "            shape_elements(elem)\n",
    "    \n",
    "    osm_file.close()"
   ]
  },
  {
   "cell_type": "code",
   "execution_count": 8,
   "metadata": {
    "collapsed": false
   },
   "outputs": [],
   "source": [
    "audit(osmfile)"
   ]
  },
  {
   "cell_type": "code",
   "execution_count": 9,
   "metadata": {
    "collapsed": true
   },
   "outputs": [],
   "source": [
    "def array_of_values(file_name, associated_dict):\n",
    "    to_db = []\n",
    "    with open(file_name,'r') as f: # `with` statement available in 2.5+\n",
    "        # csv.DictReader uses first line in file for column headings by default\n",
    "        dr = csv.DictReader(f) # comma is default delimiter\n",
    "        for row in dr:\n",
    "            temp=[]\n",
    "            for key in associated_dict:\n",
    "                temp.append(row[key])\n",
    "            to_db.append(temp)\n",
    "    return to_db"
   ]
  },
  {
   "cell_type": "code",
   "execution_count": 12,
   "metadata": {
    "collapsed": false
   },
   "outputs": [
    {
     "name": "stdout",
     "output_type": "stream",
     "text": [
      "Number_of_nodes =     COUNT(id)\n",
      "0     700200\n",
      "Number_of_ways =     COUNT(id)\n",
      "0      85816\n"
     ]
    }
   ],
   "source": [
    "import sqlite3\n",
    "\n",
    "conn = sqlite3.connect('sqlite3')\n",
    "cur = conn.cursor()\n",
    "\n",
    "cur.execute('''DROP TABLE IF EXISTS nodes''')\n",
    "cur.execute('''DROP TABLE IF EXISTS nodes_tags''')\n",
    "cur.execute('''DROP TABLE IF EXISTS ways''')\n",
    "cur.execute('''DROP TABLE IF EXISTS ways_nodes_path''')\n",
    "cur.execute('''DROP TABLE IF EXISTS ways_tags_path''')\n",
    "\n",
    "#create nodes table\n",
    "cur.execute('''CREATE TABLE IF NOT EXISTS 'nodes'( id INT NOT NULL, \n",
    "lat INT NOT NULL, lon INT NOT NULL, \n",
    "version CHAR NOT NULL, timestamp CHAR NOT NULL, \n",
    "uid CHAR NOT NULL, PRIMARY KEY (id) );''')\n",
    "\n",
    "data_for_sql = array_of_values(NODES_PATH, NODE_KEY)\n",
    "\n",
    "cur.executemany(\"INSERT INTO nodes (id, lat, lon, version, timestamp, uid) VALUES (?, ?, ?, ?, ?, ?);\", data_for_sql)\n",
    "conn.commit()\n",
    "\n",
    "#create nodes_tags table\n",
    "cur.execute('''CREATE TABLE 'nodes_tags' ( id INT NOT NULL, key CHAR NOT NULL, value CHAR NOT NULL, \n",
    "type CHAR NOT NULL, FOREIGN KEY (id) REFERENCES nodes(id) );''')\n",
    "\n",
    "data_for_sql = array_of_values(NODE_TAGS_PATH, NODE_TAGS_FIELDS)\n",
    "\n",
    "cur.executemany(\"INSERT INTO nodes_tags (id, key, value, type) VALUES (?, ?, ?, ?);\", data_for_sql)\n",
    "conn.commit()\n",
    "\n",
    "#create ways table\n",
    "cur.execute('''CREATE TABLE 'ways' ( id INT NOT NULL, user CHAR NOT NULL, \n",
    "uid INT NOT NULL, version INT NOT NULL, changeset INT NOT NULL, timestamp CHAR NOT NULL, \n",
    "PRIMARY KEY (id) );''');\n",
    "\n",
    "data_for_sql = array_of_values(WAYS_PATH, WAY_FIELDS)\n",
    "\n",
    "cur.executemany(\"INSERT INTO ways (id, user, uid, version, changeset, timestamp) VALUES (?, ?, ?, ?, ?, ?);\", \n",
    "                data_for_sql)\n",
    "conn.commit()\n",
    "\n",
    "#create ways_nodes_path table\n",
    "cur.execute('''CREATE TABLE 'ways_nodes_path' ( id INT NOT NULL, key CHAR NOT NULL, value CHAR NOT NULL, \n",
    "type CHAR NOT NULL, FOREIGN KEY (id) REFERENCES ways(id) );''');\n",
    "\n",
    "data_for_sql = array_of_values(WAY_NODES_PATH, WAY_TAGS_FIELDS)\n",
    "\n",
    "cur.executemany(\"INSERT INTO ways_nodes_path (id, key, value, type) VALUES (?, ?, ?, ?);\", \n",
    "                data_for_sql)\n",
    "conn.commit()\n",
    "\n",
    "#create ways_tags_path table\n",
    "cur.execute('''CREATE TABLE 'ways_tags_path' ( id INT NOT NULL, node_id INT NOT NULL, position INT NOT NULL, \n",
    "FOREIGN KEY (id) REFERENCES ways(id), FOREIGN KEY (node_id) REFERENCES nodes(id) );''');\n",
    "\n",
    "data_for_sql = array_of_values(WAY_TAGS_PATH, WAY_NODES_FIELDS)\n",
    "\n",
    "cur.executemany(\"INSERT INTO ways_tags_path (id, node_id, position) VALUES (?, ?, ?);\", \n",
    "                data_for_sql)\n",
    "conn.commit()\n",
    "\n",
    "import pandas as pd\n",
    "#Query to find the number of unique nodes by id\n",
    "Number_of_nodes = pd.read_sql_query('''SELECT COUNT(id) FROM nodes''', conn)\n",
    "\n",
    "#Query to find the number of unique ways by id\n",
    "Number_of_ways = pd.read_sql_query('''SELECT COUNT(id) FROM ways''', conn)\n",
    "\n",
    "\n",
    "#Query to find the number of Tim Hortons\n",
    "Total_number_of_tim_hortons = pd.read_sql_query('''SELECT COUNT(*) FROM (SELECT id, key, value FROM nodes_tags \n",
    "WHERE value = 'Tim Hortons' GROUP by id);''', conn);\n",
    "\n",
    "#Get the lon and lat of all the tim hortons for graphing\n",
    "Tim_Horton_locations = pd.read_sql_query('''SELECT lon, lat \n",
    "FROM nodes\n",
    "JOIN nodes_tags \n",
    "ON nodes.id = nodes_tags.id\n",
    "WHERE value = 'Tim Hortons'\n",
    "GROUP BY nodes.id''', conn)\n",
    "\n",
    "#Get the number of starbuck\n",
    "Total_number_of_startbucks = pd.read_sql_query('''SELECT COUNT(*) FROM (SELECT id, key, value FROM nodes_tags \n",
    "WHERE value = 'Starbucks' GROUP by id);''', conn);\n",
    "\n",
    "#Get the lon and lat of all the tim hortons for graphing\n",
    "Stabucks_locations = pd.read_sql_query('''SELECT lon, lat \n",
    "FROM nodes\n",
    "JOIN nodes_tags \n",
    "ON nodes.id = nodes_tags.id\n",
    "WHERE value = 'Starbucks'\n",
    "GROUP BY nodes.id''', conn)\n",
    "\n",
    "#Get the total number of contributors\n",
    "Total_contributors = pd.read_sql_query('''SELECT COUNT(DISTINCT uid) FROM ways;''', conn)\n",
    "\n",
    "#Find out how many contributions each contributor made\n",
    "Contributions_by_contributor = pd.read_sql_query('''SELECT uid, COUNT(uid) FROM ways GROUP BY uid \n",
    "ORDER BY COUNT(uid) DESC;''', conn)\n",
    "\n",
    "\n",
    "conn.close()\n",
    "print('Number_of_nodes = ', Number_of_nodes)\n",
    "print('Number_of_ways = ', Number_of_ways)"
   ]
  },
  {
   "cell_type": "code",
   "execution_count": 13,
   "metadata": {
    "collapsed": false
   },
   "outputs": [
    {
     "name": "stderr",
     "output_type": "stream",
     "text": [
      "/home/usman/anaconda3/lib/python3.5/site-packages/ipykernel/__main__.py:12: FutureWarning: circle_marker is deprecated. Use add_children(CircleMarker) instead\n",
      "/home/usman/anaconda3/lib/python3.5/site-packages/ipykernel/__main__.py:17: FutureWarning: circle_marker is deprecated. Use add_children(CircleMarker) instead\n",
      "/home/usman/anaconda3/lib/python3.5/site-packages/ipykernel/__main__.py:20: FutureWarning: Map.create_map is deprecated. Use Map.save instead\n"
     ]
    },
    {
     "data": {
      "text/html": [
       "<div style=\"width:100%;\"><div style=\"position:relative;width:100%;height:0;padding-bottom:60%;\"><iframe src=\"data:text/html;base64,CiAgICAgICAgPCFET0NUWVBFIGh0bWw+CiAgICAgICAgPGhlYWQ+CiAgICAgICAgICAgIAogICAgICAgIAogICAgICAgICAgICA8bWV0YSBodHRwLWVxdWl2PSJjb250ZW50LXR5cGUiIGNvbnRlbnQ9InRleHQvaHRtbDsgY2hhcnNldD1VVEYtOCIgLz4KICAgICAgICAKICAgICAgICAgICAgCiAgICAgICAgCiAgICAgICAgICAgIDxzY3JpcHQgc3JjPSJodHRwczovL2NkbmpzLmNsb3VkZmxhcmUuY29tL2FqYXgvbGlicy9sZWFmbGV0LzAuNy4zL2xlYWZsZXQuanMiPjwvc2NyaXB0PgogICAgICAgIAogICAgICAgIAogICAgICAgIAogICAgICAgICAgICAKICAgICAgICAKICAgICAgICAgICAgPHNjcmlwdCBzcmM9Imh0dHBzOi8vYWpheC5nb29nbGVhcGlzLmNvbS9hamF4L2xpYnMvanF1ZXJ5LzEuMTEuMS9qcXVlcnkubWluLmpzIj48L3NjcmlwdD4KICAgICAgICAKICAgICAgICAKICAgICAgICAKICAgICAgICAgICAgCiAgICAgICAgCiAgICAgICAgICAgIDxzY3JpcHQgc3JjPSJodHRwczovL21heGNkbi5ib290c3RyYXBjZG4uY29tL2Jvb3RzdHJhcC8zLjIuMC9qcy9ib290c3RyYXAubWluLmpzIj48L3NjcmlwdD4KICAgICAgICAKICAgICAgICAKICAgICAgICAKICAgICAgICAgICAgCiAgICAgICAgCiAgICAgICAgICAgIDxzY3JpcHQgc3JjPSJodHRwczovL2NkbmpzLmNsb3VkZmxhcmUuY29tL2FqYXgvbGlicy9MZWFmbGV0LmF3ZXNvbWUtbWFya2Vycy8yLjAuMi9sZWFmbGV0LmF3ZXNvbWUtbWFya2Vycy5taW4uanMiPjwvc2NyaXB0PgogICAgICAgIAogICAgICAgIAogICAgICAgIAogICAgICAgICAgICAKICAgICAgICAKICAgICAgICAgICAgPHNjcmlwdCBzcmM9Imh0dHBzOi8vY2RuanMuY2xvdWRmbGFyZS5jb20vYWpheC9saWJzL2xlYWZsZXQubWFya2VyY2x1c3Rlci8wLjQuMC9sZWFmbGV0Lm1hcmtlcmNsdXN0ZXItc3JjLmpzIj48L3NjcmlwdD4KICAgICAgICAKICAgICAgICAKICAgICAgICAKICAgICAgICAgICAgCiAgICAgICAgCiAgICAgICAgICAgIDxzY3JpcHQgc3JjPSJodHRwczovL2NkbmpzLmNsb3VkZmxhcmUuY29tL2FqYXgvbGlicy9sZWFmbGV0Lm1hcmtlcmNsdXN0ZXIvMC40LjAvbGVhZmxldC5tYXJrZXJjbHVzdGVyLmpzIj48L3NjcmlwdD4KICAgICAgICAKICAgICAgICAKICAgICAgICAKICAgICAgICAgICAgCiAgICAgICAgCiAgICAgICAgICAgIDxsaW5rIHJlbD0ic3R5bGVzaGVldCIgaHJlZj0iaHR0cHM6Ly9jZG5qcy5jbG91ZGZsYXJlLmNvbS9hamF4L2xpYnMvbGVhZmxldC8wLjcuMy9sZWFmbGV0LmNzcyIgLz4KICAgICAgICAKICAgICAgICAKICAgICAgICAKICAgICAgICAgICAgCiAgICAgICAgCiAgICAgICAgICAgIDxsaW5rIHJlbD0ic3R5bGVzaGVldCIgaHJlZj0iaHR0cHM6Ly9tYXhjZG4uYm9vdHN0cmFwY2RuLmNvbS9ib290c3RyYXAvMy4yLjAvY3NzL2Jvb3RzdHJhcC5taW4uY3NzIiAvPgogICAgICAgIAogICAgICAgIAogICAgICAgIAogICAgICAgICAgICAKICAgICAgICAKICAgICAgICAgICAgPGxpbmsgcmVsPSJzdHlsZXNoZWV0IiBocmVmPSJodHRwczovL21heGNkbi5ib290c3RyYXBjZG4uY29tL2Jvb3RzdHJhcC8zLjIuMC9jc3MvYm9vdHN0cmFwLXRoZW1lLm1pbi5jc3MiIC8+CiAgICAgICAgCiAgICAgICAgCiAgICAgICAgCiAgICAgICAgICAgIAogICAgICAgIAogICAgICAgICAgICA8bGluayByZWw9InN0eWxlc2hlZXQiIGhyZWY9Imh0dHBzOi8vbWF4Y2RuLmJvb3RzdHJhcGNkbi5jb20vZm9udC1hd2Vzb21lLzQuMS4wL2Nzcy9mb250LWF3ZXNvbWUubWluLmNzcyIgLz4KICAgICAgICAKICAgICAgICAKICAgICAgICAKICAgICAgICAgICAgCiAgICAgICAgCiAgICAgICAgICAgIDxsaW5rIHJlbD0ic3R5bGVzaGVldCIgaHJlZj0iaHR0cHM6Ly9jZG5qcy5jbG91ZGZsYXJlLmNvbS9hamF4L2xpYnMvTGVhZmxldC5hd2Vzb21lLW1hcmtlcnMvMi4wLjIvbGVhZmxldC5hd2Vzb21lLW1hcmtlcnMuY3NzIiAvPgogICAgICAgIAogICAgICAgIAogICAgICAgIAogICAgICAgICAgICAKICAgICAgICAKICAgICAgICAgICAgPGxpbmsgcmVsPSJzdHlsZXNoZWV0IiBocmVmPSJodHRwczovL2NkbmpzLmNsb3VkZmxhcmUuY29tL2FqYXgvbGlicy9sZWFmbGV0Lm1hcmtlcmNsdXN0ZXIvMC40LjAvTWFya2VyQ2x1c3Rlci5EZWZhdWx0LmNzcyIgLz4KICAgICAgICAKICAgICAgICAKICAgICAgICAKICAgICAgICAgICAgCiAgICAgICAgCiAgICAgICAgICAgIDxsaW5rIHJlbD0ic3R5bGVzaGVldCIgaHJlZj0iaHR0cHM6Ly9jZG5qcy5jbG91ZGZsYXJlLmNvbS9hamF4L2xpYnMvbGVhZmxldC5tYXJrZXJjbHVzdGVyLzAuNC4wL01hcmtlckNsdXN0ZXIuY3NzIiAvPgogICAgICAgIAogICAgICAgIAogICAgICAgIAogICAgICAgICAgICAKICAgICAgICAKICAgICAgICAgICAgPGxpbmsgcmVsPSJzdHlsZXNoZWV0IiBocmVmPSJodHRwczovL3Jhdy5naXRodWJ1c2VyY29udGVudC5jb20vcHl0aG9uLXZpc3VhbGl6YXRpb24vZm9saXVtL21hc3Rlci9mb2xpdW0vdGVtcGxhdGVzL2xlYWZsZXQuYXdlc29tZS5yb3RhdGUuY3NzIiAvPgogICAgICAgIAogICAgICAgIAogICAgICAgIAogICAgICAgICAgICAKICAgICAgICAgICAgPHN0eWxlPgoKICAgICAgICAgICAgaHRtbCwgYm9keSB7CiAgICAgICAgICAgICAgICB3aWR0aDogMTAwJTsKICAgICAgICAgICAgICAgIGhlaWdodDogMTAwJTsKICAgICAgICAgICAgICAgIG1hcmdpbjogMDsKICAgICAgICAgICAgICAgIHBhZGRpbmc6IDA7CiAgICAgICAgICAgICAgICB9CgogICAgICAgICAgICAjbWFwIHsKICAgICAgICAgICAgICAgIHBvc2l0aW9uOmFic29sdXRlOwogICAgICAgICAgICAgICAgdG9wOjA7CiAgICAgICAgICAgICAgICBib3R0b206MDsKICAgICAgICAgICAgICAgIHJpZ2h0OjA7CiAgICAgICAgICAgICAgICBsZWZ0OjA7CiAgICAgICAgICAgICAgICB9CiAgICAgICAgICAgIDwvc3R5bGU+CiAgICAgICAgICAgIAogICAgICAgIAogICAgICAgICAgICAKICAgICAgICAgICAgPHN0eWxlPiAjbWFwXzc4OWJiZjVhMzJiNDRmYjE4ZjczMTA0NzAwYmZmNjY5IHsKICAgICAgICAgICAgICAgIHBvc2l0aW9uIDogcmVsYXRpdmU7CiAgICAgICAgICAgICAgICB3aWR0aCA6IDEwMC4wJTsKICAgICAgICAgICAgICAgIGhlaWdodDogMTAwLjAlOwogICAgICAgICAgICAgICAgbGVmdDogMC4wJTsKICAgICAgICAgICAgICAgIHRvcDogMC4wJTsKICAgICAgICAgICAgICAgIH0KICAgICAgICAgICAgPC9zdHlsZT4KICAgICAgICAKICAgICAgICAKICAgICAgICAKICAgICAgICA8L2hlYWQ+CiAgICAgICAgPGJvZHk+CiAgICAgICAgICAgIAogICAgICAgIAogICAgICAgICAgICAKICAgICAgICAgICAgPGRpdiBjbGFzcz0iZm9saXVtLW1hcCIgaWQ9Im1hcF83ODliYmY1YTMyYjQ0ZmIxOGY3MzEwNDcwMGJmZjY2OSIgPjwvZGl2PgogICAgICAgIAogICAgICAgIAogICAgICAgIAogICAgICAgIDwvYm9keT4KICAgICAgICA8c2NyaXB0PgogICAgICAgICAgICAKICAgICAgICAKICAgICAgICAgICAgCgogICAgICAgICAgICB2YXIgc291dGhXZXN0ID0gTC5sYXRMbmcoLTkwLCAtMTgwKTsKICAgICAgICAgICAgdmFyIG5vcnRoRWFzdCA9IEwubGF0TG5nKDkwLCAxODApOwogICAgICAgICAgICB2YXIgYm91bmRzID0gTC5sYXRMbmdCb3VuZHMoc291dGhXZXN0LCBub3J0aEVhc3QpOwoKICAgICAgICAgICAgdmFyIG1hcF83ODliYmY1YTMyYjQ0ZmIxOGY3MzEwNDcwMGJmZjY2OSA9IEwubWFwKCdtYXBfNzg5YmJmNWEzMmI0NGZiMThmNzMxMDQ3MDBiZmY2NjknLCB7CiAgICAgICAgICAgICAgICAgICAgICAgICAgICAgICAgICAgICAgICAgICBjZW50ZXI6WzUxLC0xMTRdLAogICAgICAgICAgICAgICAgICAgICAgICAgICAgICAgICAgICAgICAgICAgem9vbTogMTAsCiAgICAgICAgICAgICAgICAgICAgICAgICAgICAgICAgICAgICAgICAgICBtYXhCb3VuZHM6IGJvdW5kcywKICAgICAgICAgICAgICAgICAgICAgICAgICAgICAgICAgICAgICAgICAgIGxheWVyczogW10sCiAgICAgICAgICAgICAgICAgICAgICAgICAgICAgICAgICAgICAgICAgICBjcnM6IEwuQ1JTLkVQU0czODU3CiAgICAgICAgICAgICAgICAgICAgICAgICAgICAgICAgICAgICAgICAgfSk7CiAgICAgICAgICAgIAogICAgICAgIAogICAgICAgIAogICAgICAgICAgICAKICAgICAgICAgICAgdmFyIHRpbGVfbGF5ZXJfNjA5Y2NlZjQyMmZjNDUyOTlhNTYzZDI5ZjdiMTJmODkgPSBMLnRpbGVMYXllcigKICAgICAgICAgICAgICAgICdodHRwczovL3tzfS50aWxlLm9wZW5zdHJlZXRtYXAub3JnL3t6fS97eH0ve3l9LnBuZycsCiAgICAgICAgICAgICAgICB7CiAgICAgICAgICAgICAgICAgICAgbWF4Wm9vbTogMTgsCiAgICAgICAgICAgICAgICAgICAgbWluWm9vbTogMSwKICAgICAgICAgICAgICAgICAgICBhdHRyaWJ1dGlvbjogJ0RhdGEgYnkgPGEgaHJlZj0iaHR0cDovL29wZW5zdHJlZXRtYXAub3JnIj5PcGVuU3RyZWV0TWFwPC9hPiwgdW5kZXIgPGEgaHJlZj0iaHR0cDovL3d3dy5vcGVuc3RyZWV0bWFwLm9yZy9jb3B5cmlnaHQiPk9EYkw8L2E+LicsCiAgICAgICAgICAgICAgICAgICAgZGV0ZWN0UmV0aW5hOiBmYWxzZQogICAgICAgICAgICAgICAgICAgIH0KICAgICAgICAgICAgICAgICkuYWRkVG8obWFwXzc4OWJiZjVhMzJiNDRmYjE4ZjczMTA0NzAwYmZmNjY5KTsKCiAgICAgICAgCiAgICAgICAgCiAgICAgICAgICAgIAoKICAgICAgICAgICAgdmFyIGNpcmNsZV9tYXJrZXJfYmZlNzZiN2I4Nzk1NGQ5OWFhMjRlYzA2OTNiZjFmZTAgPSBMLmNpcmNsZSgKICAgICAgICAgICAgICAgIFs1MS4wOTY3NzI5LC0xMTQuMDM0MTU3Ml0sCiAgICAgICAgICAgICAgICAxMDAsCiAgICAgICAgICAgICAgICB7CiAgICAgICAgICAgICAgICAgICAgY29sb3I6ICdncmVlbicsCiAgICAgICAgICAgICAgICAgICAgZmlsbENvbG9yOiAnZ3JlZW4nLAogICAgICAgICAgICAgICAgICAgIGZpbGxPcGFjaXR5OiAwLjYKICAgICAgICAgICAgICAgICAgICB9CiAgICAgICAgICAgICAgICApCiAgICAgICAgICAgICAgICAuYWRkVG8obWFwXzc4OWJiZjVhMzJiNDRmYjE4ZjczMTA0NzAwYmZmNjY5KTsKICAgICAgICAgICAgCiAgICAgICAgCiAgICAgICAgICAgIAoKICAgICAgICAgICAgdmFyIGNpcmNsZV9tYXJrZXJfNmMxYWFhMzYzMzJiNDQ0YWFmNmE4ZTE1YjM2ZjhiODUgPSBMLmNpcmNsZSgKICAgICAgICAgICAgICAgIFs1MS4wODA4NjU0LC0xMTQuMDI1NTQ1MV0sCiAgICAgICAgICAgICAgICAxMDAsCiAgICAgICAgICAgICAgICB7CiAgICAgICAgICAgICAgICAgICAgY29sb3I6ICdncmVlbicsCiAgICAgICAgICAgICAgICAgICAgZmlsbENvbG9yOiAnZ3JlZW4nLAogICAgICAgICAgICAgICAgICAgIGZpbGxPcGFjaXR5OiAwLjYKICAgICAgICAgICAgICAgICAgICB9CiAgICAgICAgICAgICAgICApCiAgICAgICAgICAgICAgICAuYWRkVG8obWFwXzc4OWJiZjVhMzJiNDRmYjE4ZjczMTA0NzAwYmZmNjY5KTsKICAgICAgICAgICAgCiAgICAgICAgCiAgICAgICAgICAgIAoKICAgICAgICAgICAgdmFyIGNpcmNsZV9tYXJrZXJfYjVjMTFjYmZkMGIzNDY1NDg5OGQwMjkzMGY3M2ViNjYgPSBMLmNpcmNsZSgKICAgICAgICAgICAgICAgIFs1MS4wODkxMTgxLC0xMTQuMDAwMTM4XSwKICAgICAgICAgICAgICAgIDEwMCwKICAgICAgICAgICAgICAgIHsKICAgICAgICAgICAgICAgICAgICBjb2xvcjogJ2dyZWVuJywKICAgICAgICAgICAgICAgICAgICBmaWxsQ29sb3I6ICdncmVlbicsCiAgICAgICAgICAgICAgICAgICAgZmlsbE9wYWNpdHk6IDAuNgogICAgICAgICAgICAgICAgICAgIH0KICAgICAgICAgICAgICAgICkKICAgICAgICAgICAgICAgIC5hZGRUbyhtYXBfNzg5YmJmNWEzMmI0NGZiMThmNzMxMDQ3MDBiZmY2NjkpOwogICAgICAgICAgICAKICAgICAgICAKICAgICAgICAgICAgCgogICAgICAgICAgICB2YXIgY2lyY2xlX21hcmtlcl9lMTBiZGE0ODExMTY0Njc3YWQzZTAzYTkyNDY1MDVjNyA9IEwuY2lyY2xlKAogICAgICAgICAgICAgICAgWzUxLjExMDMwOTgsLTExNC4wNjE2MTFdLAogICAgICAgICAgICAgICAgMTAwLAogICAgICAgICAgICAgICAgewogICAgICAgICAgICAgICAgICAgIGNvbG9yOiAnZ3JlZW4nLAogICAgICAgICAgICAgICAgICAgIGZpbGxDb2xvcjogJ2dyZWVuJywKICAgICAgICAgICAgICAgICAgICBmaWxsT3BhY2l0eTogMC42CiAgICAgICAgICAgICAgICAgICAgfQogICAgICAgICAgICAgICAgKQogICAgICAgICAgICAgICAgLmFkZFRvKG1hcF83ODliYmY1YTMyYjQ0ZmIxOGY3MzEwNDcwMGJmZjY2OSk7CiAgICAgICAgICAgIAogICAgICAgIAogICAgICAgICAgICAKCiAgICAgICAgICAgIHZhciBjaXJjbGVfbWFya2VyXzM3N2I4MzI2OWUzMjRkZDVhNzBhY2QxODUyMWJiOGFjID0gTC5jaXJjbGUoCiAgICAgICAgICAgICAgICBbNTAuOTc3NDk1MywtMTE0LjAxNTEwMjJdLAogICAgICAgICAgICAgICAgMTAwLAogICAgICAgICAgICAgICAgewogICAgICAgICAgICAgICAgICAgIGNvbG9yOiAnZ3JlZW4nLAogICAgICAgICAgICAgICAgICAgIGZpbGxDb2xvcjogJ2dyZWVuJywKICAgICAgICAgICAgICAgICAgICBmaWxsT3BhY2l0eTogMC42CiAgICAgICAgICAgICAgICAgICAgfQogICAgICAgICAgICAgICAgKQogICAgICAgICAgICAgICAgLmFkZFRvKG1hcF83ODliYmY1YTMyYjQ0ZmIxOGY3MzEwNDcwMGJmZjY2OSk7CiAgICAgICAgICAgIAogICAgICAgIAogICAgICAgICAgICAKCiAgICAgICAgICAgIHZhciBjaXJjbGVfbWFya2VyXzFmMWY3YWMzYzVkMjRkZjE5N2Y3YWVlMDI5NzY1YjMyID0gTC5jaXJjbGUoCiAgICAgICAgICAgICAgICBbNTAuOTk1ODYyNiwtMTEzLjk4MTM0OTVdLAogICAgICAgICAgICAgICAgMTAwLAogICAgICAgICAgICAgICAgewogICAgICAgICAgICAgICAgICAgIGNvbG9yOiAnZ3JlZW4nLAogICAgICAgICAgICAgICAgICAgIGZpbGxDb2xvcjogJ2dyZWVuJywKICAgICAgICAgICAgICAgICAgICBmaWxsT3BhY2l0eTogMC42CiAgICAgICAgICAgICAgICAgICAgfQogICAgICAgICAgICAgICAgKQogICAgICAgICAgICAgICAgLmFkZFRvKG1hcF83ODliYmY1YTMyYjQ0ZmIxOGY3MzEwNDcwMGJmZjY2OSk7CiAgICAgICAgICAgIAogICAgICAgIAogICAgICAgICAgICAKCiAgICAgICAgICAgIHZhciBjaXJjbGVfbWFya2VyX2I1Zjc5Y2M2MjBkNTQ4NTU5NTFmYTk0MzQ5NzRkMjBhID0gTC5jaXJjbGUoCiAgICAgICAgICAgICAgICBbNTEuMTQxNjQ1OSwtMTE0LjA2ODM1NTldLAogICAgICAgICAgICAgICAgMTAwLAogICAgICAgICAgICAgICAgewogICAgICAgICAgICAgICAgICAgIGNvbG9yOiAnZ3JlZW4nLAogICAgICAgICAgICAgICAgICAgIGZpbGxDb2xvcjogJ2dyZWVuJywKICAgICAgICAgICAgICAgICAgICBmaWxsT3BhY2l0eTogMC42CiAgICAgICAgICAgICAgICAgICAgfQogICAgICAgICAgICAgICAgKQogICAgICAgICAgICAgICAgLmFkZFRvKG1hcF83ODliYmY1YTMyYjQ0ZmIxOGY3MzEwNDcwMGJmZjY2OSk7CiAgICAgICAgICAgIAogICAgICAgIAogICAgICAgICAgICAKCiAgICAgICAgICAgIHZhciBjaXJjbGVfbWFya2VyXzY0NWUyNzE2NGI0NTQwOThhMzRkY2U0YmZlYWQ0NTcxID0gTC5jaXJjbGUoCiAgICAgICAgICAgICAgICBbNTEuMDc4MjUyNywtMTE0LjEzMTEzOTFdLAogICAgICAgICAgICAgICAgMTAwLAogICAgICAgICAgICAgICAgewogICAgICAgICAgICAgICAgICAgIGNvbG9yOiAnZ3JlZW4nLAogICAgICAgICAgICAgICAgICAgIGZpbGxDb2xvcjogJ2dyZWVuJywKICAgICAgICAgICAgICAgICAgICBmaWxsT3BhY2l0eTogMC42CiAgICAgICAgICAgICAgICAgICAgfQogICAgICAgICAgICAgICAgKQogICAgICAgICAgICAgICAgLmFkZFRvKG1hcF83ODliYmY1YTMyYjQ0ZmIxOGY3MzEwNDcwMGJmZjY2OSk7CiAgICAgICAgICAgIAogICAgICAgIAogICAgICAgICAgICAKCiAgICAgICAgICAgIHZhciBjaXJjbGVfbWFya2VyXzY2MzI5MTUwZjhkMDRlMmFhNDUyMzEwZGRlNDJmZTM0ID0gTC5jaXJjbGUoCiAgICAgICAgICAgICAgICBbNTEuMDc4Mjk5NCwtMTE0LjEzMTAxMTJdLAogICAgICAgICAgICAgICAgMTAwLAogICAgICAgICAgICAgICAgewogICAgICAgICAgICAgICAgICAgIGNvbG9yOiAnZ3JlZW4nLAogICAgICAgICAgICAgICAgICAgIGZpbGxDb2xvcjogJ2dyZWVuJywKICAgICAgICAgICAgICAgICAgICBmaWxsT3BhY2l0eTogMC42CiAgICAgICAgICAgICAgICAgICAgfQogICAgICAgICAgICAgICAgKQogICAgICAgICAgICAgICAgLmFkZFRvKG1hcF83ODliYmY1YTMyYjQ0ZmIxOGY3MzEwNDcwMGJmZjY2OSk7CiAgICAgICAgICAgIAogICAgICAgIAogICAgICAgICAgICAKCiAgICAgICAgICAgIHZhciBjaXJjbGVfbWFya2VyXzk1YmM2YTM1MmQxODQwZjY4YTQxZDE1OTg2NmM1ODI0ID0gTC5jaXJjbGUoCiAgICAgICAgICAgICAgICBbNTEuMDc2ODU2LC0xMTQuMTI3NjYyN10sCiAgICAgICAgICAgICAgICAxMDAsCiAgICAgICAgICAgICAgICB7CiAgICAgICAgICAgICAgICAgICAgY29sb3I6ICdncmVlbicsCiAgICAgICAgICAgICAgICAgICAgZmlsbENvbG9yOiAnZ3JlZW4nLAogICAgICAgICAgICAgICAgICAgIGZpbGxPcGFjaXR5OiAwLjYKICAgICAgICAgICAgICAgICAgICB9CiAgICAgICAgICAgICAgICApCiAgICAgICAgICAgICAgICAuYWRkVG8obWFwXzc4OWJiZjVhMzJiNDRmYjE4ZjczMTA0NzAwYmZmNjY5KTsKICAgICAgICAgICAgCiAgICAgICAgCiAgICAgICAgICAgIAoKICAgICAgICAgICAgdmFyIGNpcmNsZV9tYXJrZXJfM2RkNzRkOGI2YjhkNDIxMmFkOTNhYzYxNDExZjQwNzQgPSBMLmNpcmNsZSgKICAgICAgICAgICAgICAgIFs1MS4xNTQ2MTA4LC0xMTQuMDYwNDIzXSwKICAgICAgICAgICAgICAgIDEwMCwKICAgICAgICAgICAgICAgIHsKICAgICAgICAgICAgICAgICAgICBjb2xvcjogJ2dyZWVuJywKICAgICAgICAgICAgICAgICAgICBmaWxsQ29sb3I6ICdncmVlbicsCiAgICAgICAgICAgICAgICAgICAgZmlsbE9wYWNpdHk6IDAuNgogICAgICAgICAgICAgICAgICAgIH0KICAgICAgICAgICAgICAgICkKICAgICAgICAgICAgICAgIC5hZGRUbyhtYXBfNzg5YmJmNWEzMmI0NGZiMThmNzMxMDQ3MDBiZmY2NjkpOwogICAgICAgICAgICAKICAgICAgICAKICAgICAgICAgICAgCgogICAgICAgICAgICB2YXIgY2lyY2xlX21hcmtlcl8xMzY2MTc0MzA2M2M0Y2M3OTQ3Njc1ODBjNTEwMzczNCA9IEwuY2lyY2xlKAogICAgICAgICAgICAgICAgWzUxLjA4ODM5NDcsLTExNC4wNjI3NTY0XSwKICAgICAgICAgICAgICAgIDEwMCwKICAgICAgICAgICAgICAgIHsKICAgICAgICAgICAgICAgICAgICBjb2xvcjogJ2dyZWVuJywKICAgICAgICAgICAgICAgICAgICBmaWxsQ29sb3I6ICdncmVlbicsCiAgICAgICAgICAgICAgICAgICAgZmlsbE9wYWNpdHk6IDAuNgogICAgICAgICAgICAgICAgICAgIH0KICAgICAgICAgICAgICAgICkKICAgICAgICAgICAgICAgIC5hZGRUbyhtYXBfNzg5YmJmNWEzMmI0NGZiMThmNzMxMDQ3MDBiZmY2NjkpOwogICAgICAgICAgICAKICAgICAgICAKICAgICAgICAgICAgCgogICAgICAgICAgICB2YXIgY2lyY2xlX21hcmtlcl83OWQwMTA3ZTI4OWU0NTQxODk5NTZlY2Y5ZDdmODIyMyA9IEwuY2lyY2xlKAogICAgICAgICAgICAgICAgWzUxLjA1OTQyNiwtMTE0LjIxMjA2NTJdLAogICAgICAgICAgICAgICAgMTAwLAogICAgICAgICAgICAgICAgewogICAgICAgICAgICAgICAgICAgIGNvbG9yOiAnZ3JlZW4nLAogICAgICAgICAgICAgICAgICAgIGZpbGxDb2xvcjogJ2dyZWVuJywKICAgICAgICAgICAgICAgICAgICBmaWxsT3BhY2l0eTogMC42CiAgICAgICAgICAgICAgICAgICAgfQogICAgICAgICAgICAgICAgKQogICAgICAgICAgICAgICAgLmFkZFRvKG1hcF83ODliYmY1YTMyYjQ0ZmIxOGY3MzEwNDcwMGJmZjY2OSk7CiAgICAgICAgICAgIAogICAgICAgIAogICAgICAgICAgICAKCiAgICAgICAgICAgIHZhciBjaXJjbGVfbWFya2VyXzc1ZWY3NTI1MmFkODQ1ODViNjFkYzI4YmUxOTlhMTgzID0gTC5jaXJjbGUoCiAgICAgICAgICAgICAgICBbNTEuMDgxODc4MiwtMTEzLjk4MzkyNTddLAogICAgICAgICAgICAgICAgMTAwLAogICAgICAgICAgICAgICAgewogICAgICAgICAgICAgICAgICAgIGNvbG9yOiAnZ3JlZW4nLAogICAgICAgICAgICAgICAgICAgIGZpbGxDb2xvcjogJ2dyZWVuJywKICAgICAgICAgICAgICAgICAgICBmaWxsT3BhY2l0eTogMC42CiAgICAgICAgICAgICAgICAgICAgfQogICAgICAgICAgICAgICAgKQogICAgICAgICAgICAgICAgLmFkZFRvKG1hcF83ODliYmY1YTMyYjQ0ZmIxOGY3MzEwNDcwMGJmZjY2OSk7CiAgICAgICAgICAgIAogICAgICAgIAogICAgICAgICAgICAKCiAgICAgICAgICAgIHZhciBjaXJjbGVfbWFya2VyX2ZiZDFmZWM2NjE0MDRmMWRhMTZiMGI5YThiOTVmYTAzID0gTC5jaXJjbGUoCiAgICAgICAgICAgICAgICBbNTEuMDAxODU0LC0xMTQuMDU0MDU4M10sCiAgICAgICAgICAgICAgICAxMDAsCiAgICAgICAgICAgICAgICB7CiAgICAgICAgICAgICAgICAgICAgY29sb3I6ICdncmVlbicsCiAgICAgICAgICAgICAgICAgICAgZmlsbENvbG9yOiAnZ3JlZW4nLAogICAgICAgICAgICAgICAgICAgIGZpbGxPcGFjaXR5OiAwLjYKICAgICAgICAgICAgICAgICAgICB9CiAgICAgICAgICAgICAgICApCiAgICAgICAgICAgICAgICAuYWRkVG8obWFwXzc4OWJiZjVhMzJiNDRmYjE4ZjczMTA0NzAwYmZmNjY5KTsKICAgICAgICAgICAgCiAgICAgICAgCiAgICAgICAgICAgIAoKICAgICAgICAgICAgdmFyIGNpcmNsZV9tYXJrZXJfM2FlZjVlM2ZhMzJhNDZlNmE5MmYxNDlmZjZiNjdhYzAgPSBMLmNpcmNsZSgKICAgICAgICAgICAgICAgIFs1MS4wNDg4MDUzLC0xMTQuMDcxNDNdLAogICAgICAgICAgICAgICAgMTAwLAogICAgICAgICAgICAgICAgewogICAgICAgICAgICAgICAgICAgIGNvbG9yOiAnZ3JlZW4nLAogICAgICAgICAgICAgICAgICAgIGZpbGxDb2xvcjogJ2dyZWVuJywKICAgICAgICAgICAgICAgICAgICBmaWxsT3BhY2l0eTogMC42CiAgICAgICAgICAgICAgICAgICAgfQogICAgICAgICAgICAgICAgKQogICAgICAgICAgICAgICAgLmFkZFRvKG1hcF83ODliYmY1YTMyYjQ0ZmIxOGY3MzEwNDcwMGJmZjY2OSk7CiAgICAgICAgICAgIAogICAgICAgIAogICAgICAgICAgICAKCiAgICAgICAgICAgIHZhciBjaXJjbGVfbWFya2VyXzg4NzVjYzFmOWZkMTRhZGNhZmQ4NGExNjM2NDQ5OWIzID0gTC5jaXJjbGUoCiAgICAgICAgICAgICAgICBbNTEuMjA1MTg2NywtMTEzLjk5MzA3Ml0sCiAgICAgICAgICAgICAgICAxMDAsCiAgICAgICAgICAgICAgICB7CiAgICAgICAgICAgICAgICAgICAgY29sb3I6ICdncmVlbicsCiAgICAgICAgICAgICAgICAgICAgZmlsbENvbG9yOiAnZ3JlZW4nLAogICAgICAgICAgICAgICAgICAgIGZpbGxPcGFjaXR5OiAwLjYKICAgICAgICAgICAgICAgICAgICB9CiAgICAgICAgICAgICAgICApCiAgICAgICAgICAgICAgICAuYWRkVG8obWFwXzc4OWJiZjVhMzJiNDRmYjE4ZjczMTA0NzAwYmZmNjY5KTsKICAgICAgICAgICAgCiAgICAgICAgCiAgICAgICAgICAgIAoKICAgICAgICAgICAgdmFyIGNpcmNsZV9tYXJrZXJfM2QyNmZkNmIxMTZjNDI0NTgyZWI2Njk3NzJiZjYyZDggPSBMLmNpcmNsZSgKICAgICAgICAgICAgICAgIFs1MC45MzExMTk5LC0xMTMuOTcxOTc5NV0sCiAgICAgICAgICAgICAgICAxMDAsCiAgICAgICAgICAgICAgICB7CiAgICAgICAgICAgICAgICAgICAgY29sb3I6ICdncmVlbicsCiAgICAgICAgICAgICAgICAgICAgZmlsbENvbG9yOiAnZ3JlZW4nLAogICAgICAgICAgICAgICAgICAgIGZpbGxPcGFjaXR5OiAwLjYKICAgICAgICAgICAgICAgICAgICB9CiAgICAgICAgICAgICAgICApCiAgICAgICAgICAgICAgICAuYWRkVG8obWFwXzc4OWJiZjVhMzJiNDRmYjE4ZjczMTA0NzAwYmZmNjY5KTsKICAgICAgICAgICAgCiAgICAgICAgCiAgICAgICAgICAgIAoKICAgICAgICAgICAgdmFyIGNpcmNsZV9tYXJrZXJfMDA3NjhlNzJhMTYxNGVlMmIzZWE0NzllYTM4M2E5NTggPSBMLmNpcmNsZSgKICAgICAgICAgICAgICAgIFs1MC45MTY5NzU1LC0xMTMuOTgwOTk3OF0sCiAgICAgICAgICAgICAgICAxMDAsCiAgICAgICAgICAgICAgICB7CiAgICAgICAgICAgICAgICAgICAgY29sb3I6ICdncmVlbicsCiAgICAgICAgICAgICAgICAgICAgZmlsbENvbG9yOiAnZ3JlZW4nLAogICAgICAgICAgICAgICAgICAgIGZpbGxPcGFjaXR5OiAwLjYKICAgICAgICAgICAgICAgICAgICB9CiAgICAgICAgICAgICAgICApCiAgICAgICAgICAgICAgICAuYWRkVG8obWFwXzc4OWJiZjVhMzJiNDRmYjE4ZjczMTA0NzAwYmZmNjY5KTsKICAgICAgICAgICAgCiAgICAgICAgCiAgICAgICAgICAgIAoKICAgICAgICAgICAgdmFyIGNpcmNsZV9tYXJrZXJfMDQ0NzkyOTg0NzExNGUzZjg3ZWU1ZGJjNWMwM2U0MjUgPSBMLmNpcmNsZSgKICAgICAgICAgICAgICAgIFs1MS4wNjQwMzgzLC0xMTQuMDYyNzY2M10sCiAgICAgICAgICAgICAgICAxMDAsCiAgICAgICAgICAgICAgICB7CiAgICAgICAgICAgICAgICAgICAgY29sb3I6ICdncmVlbicsCiAgICAgICAgICAgICAgICAgICAgZmlsbENvbG9yOiAnZ3JlZW4nLAogICAgICAgICAgICAgICAgICAgIGZpbGxPcGFjaXR5OiAwLjYKICAgICAgICAgICAgICAgICAgICB9CiAgICAgICAgICAgICAgICApCiAgICAgICAgICAgICAgICAuYWRkVG8obWFwXzc4OWJiZjVhMzJiNDRmYjE4ZjczMTA0NzAwYmZmNjY5KTsKICAgICAgICAgICAgCiAgICAgICAgCiAgICAgICAgICAgIAoKICAgICAgICAgICAgdmFyIGNpcmNsZV9tYXJrZXJfOTc1MDI5MTZiOGNmNGY1MjhmZTkwOWNlM2Q4NjM2YTYgPSBMLmNpcmNsZSgKICAgICAgICAgICAgICAgIFs1MS4xNjc4NDY1LC0xMTQuMDkxMzM1NF0sCiAgICAgICAgICAgICAgICAxMDAsCiAgICAgICAgICAgICAgICB7CiAgICAgICAgICAgICAgICAgICAgY29sb3I6ICdncmVlbicsCiAgICAgICAgICAgICAgICAgICAgZmlsbENvbG9yOiAnZ3JlZW4nLAogICAgICAgICAgICAgICAgICAgIGZpbGxPcGFjaXR5OiAwLjYKICAgICAgICAgICAgICAgICAgICB9CiAgICAgICAgICAgICAgICApCiAgICAgICAgICAgICAgICAuYWRkVG8obWFwXzc4OWJiZjVhMzJiNDRmYjE4ZjczMTA0NzAwYmZmNjY5KTsKICAgICAgICAgICAgCiAgICAgICAgCiAgICAgICAgICAgIAoKICAgICAgICAgICAgdmFyIGNpcmNsZV9tYXJrZXJfZmI2ZmU5OGRmMmM4NDllNmFkMTY4MWFkODZiNjBlYjMgPSBMLmNpcmNsZSgKICAgICAgICAgICAgICAgIFs1MS4wNjcxMzA5LC0xMTQuMDgyODIyOV0sCiAgICAgICAgICAgICAgICAxMDAsCiAgICAgICAgICAgICAgICB7CiAgICAgICAgICAgICAgICAgICAgY29sb3I6ICdncmVlbicsCiAgICAgICAgICAgICAgICAgICAgZmlsbENvbG9yOiAnZ3JlZW4nLAogICAgICAgICAgICAgICAgICAgIGZpbGxPcGFjaXR5OiAwLjYKICAgICAgICAgICAgICAgICAgICB9CiAgICAgICAgICAgICAgICApCiAgICAgICAgICAgICAgICAuYWRkVG8obWFwXzc4OWJiZjVhMzJiNDRmYjE4ZjczMTA0NzAwYmZmNjY5KTsKICAgICAgICAgICAgCiAgICAgICAgCiAgICAgICAgICAgIAoKICAgICAgICAgICAgdmFyIGNpcmNsZV9tYXJrZXJfYTk4NTZkZjk2ZGM4NDk3ZmI0ZTQ3NTgyOGRiZWYwN2EgPSBMLmNpcmNsZSgKICAgICAgICAgICAgICAgIFs1MS4wNTU5ODA0LC0xMTQuMDg1MzU1M10sCiAgICAgICAgICAgICAgICAxMDAsCiAgICAgICAgICAgICAgICB7CiAgICAgICAgICAgICAgICAgICAgY29sb3I6ICdncmVlbicsCiAgICAgICAgICAgICAgICAgICAgZmlsbENvbG9yOiAnZ3JlZW4nLAogICAgICAgICAgICAgICAgICAgIGZpbGxPcGFjaXR5OiAwLjYKICAgICAgICAgICAgICAgICAgICB9CiAgICAgICAgICAgICAgICApCiAgICAgICAgICAgICAgICAuYWRkVG8obWFwXzc4OWJiZjVhMzJiNDRmYjE4ZjczMTA0NzAwYmZmNjY5KTsKICAgICAgICAgICAgCiAgICAgICAgCiAgICAgICAgICAgIAoKICAgICAgICAgICAgdmFyIGNpcmNsZV9tYXJrZXJfMTdlYTA5MDQ2ZTM4NDI3Zjg5MDM5Mjg2ZWU3ZGE3NzkgPSBMLmNpcmNsZSgKICAgICAgICAgICAgICAgIFs1MS4wMjAwNTAyLC0xMTQuMDYxMTU1MV0sCiAgICAgICAgICAgICAgICAxMDAsCiAgICAgICAgICAgICAgICB7CiAgICAgICAgICAgICAgICAgICAgY29sb3I6ICdncmVlbicsCiAgICAgICAgICAgICAgICAgICAgZmlsbENvbG9yOiAnZ3JlZW4nLAogICAgICAgICAgICAgICAgICAgIGZpbGxPcGFjaXR5OiAwLjYKICAgICAgICAgICAgICAgICAgICB9CiAgICAgICAgICAgICAgICApCiAgICAgICAgICAgICAgICAuYWRkVG8obWFwXzc4OWJiZjVhMzJiNDRmYjE4ZjczMTA0NzAwYmZmNjY5KTsKICAgICAgICAgICAgCiAgICAgICAgCiAgICAgICAgICAgIAoKICAgICAgICAgICAgdmFyIGNpcmNsZV9tYXJrZXJfYjcwOTA1NmM2ZmFlNDA5MWI1MDU5YjVhNDhkOWFjMjEgPSBMLmNpcmNsZSgKICAgICAgICAgICAgICAgIFs1MS4wNDgzMTg5LC0xMTQuMDY1NjVdLAogICAgICAgICAgICAgICAgMTAwLAogICAgICAgICAgICAgICAgewogICAgICAgICAgICAgICAgICAgIGNvbG9yOiAnZ3JlZW4nLAogICAgICAgICAgICAgICAgICAgIGZpbGxDb2xvcjogJ2dyZWVuJywKICAgICAgICAgICAgICAgICAgICBmaWxsT3BhY2l0eTogMC42CiAgICAgICAgICAgICAgICAgICAgfQogICAgICAgICAgICAgICAgKQogICAgICAgICAgICAgICAgLmFkZFRvKG1hcF83ODliYmY1YTMyYjQ0ZmIxOGY3MzEwNDcwMGJmZjY2OSk7CiAgICAgICAgICAgIAogICAgICAgIAogICAgICAgICAgICAKCiAgICAgICAgICAgIHZhciBjaXJjbGVfbWFya2VyX2MwZTQ4YzllNzJkOTRmNDViNThmZGNiYzVkMGM4OTBlID0gTC5jaXJjbGUoCiAgICAgICAgICAgICAgICBbNTAuOTU5MzAxNywtMTE0LjA3MDc4NDRdLAogICAgICAgICAgICAgICAgMTAwLAogICAgICAgICAgICAgICAgewogICAgICAgICAgICAgICAgICAgIGNvbG9yOiAnZ3JlZW4nLAogICAgICAgICAgICAgICAgICAgIGZpbGxDb2xvcjogJ2dyZWVuJywKICAgICAgICAgICAgICAgICAgICBmaWxsT3BhY2l0eTogMC42CiAgICAgICAgICAgICAgICAgICAgfQogICAgICAgICAgICAgICAgKQogICAgICAgICAgICAgICAgLmFkZFRvKG1hcF83ODliYmY1YTMyYjQ0ZmIxOGY3MzEwNDcwMGJmZjY2OSk7CiAgICAgICAgICAgIAogICAgICAgIAogICAgICAgICAgICAKCiAgICAgICAgICAgIHZhciBjaXJjbGVfbWFya2VyXzk3MmMwZjRlNzM4ODRkYjU4ZGNjZjQ4NjRhYzJhNzFlID0gTC5jaXJjbGUoCiAgICAgICAgICAgICAgICBbNTAuOTQ0MTgyOCwtMTE0LjA2OTYxODZdLAogICAgICAgICAgICAgICAgMTAwLAogICAgICAgICAgICAgICAgewogICAgICAgICAgICAgICAgICAgIGNvbG9yOiAnZ3JlZW4nLAogICAgICAgICAgICAgICAgICAgIGZpbGxDb2xvcjogJ2dyZWVuJywKICAgICAgICAgICAgICAgICAgICBmaWxsT3BhY2l0eTogMC42CiAgICAgICAgICAgICAgICAgICAgfQogICAgICAgICAgICAgICAgKQogICAgICAgICAgICAgICAgLmFkZFRvKG1hcF83ODliYmY1YTMyYjQ0ZmIxOGY3MzEwNDcwMGJmZjY2OSk7CiAgICAgICAgICAgIAogICAgICAgIAogICAgICAgICAgICAKCiAgICAgICAgICAgIHZhciBjaXJjbGVfbWFya2VyXzU1YTI4NWQ1ODMzZDQ3MTk4YWE3YTZjNmNmYTM1MjBhID0gTC5jaXJjbGUoCiAgICAgICAgICAgICAgICBbNTEuMTI3MjIwMSwtMTE0LjEzOTI0Nl0sCiAgICAgICAgICAgICAgICAxMDAsCiAgICAgICAgICAgICAgICB7CiAgICAgICAgICAgICAgICAgICAgY29sb3I6ICdncmVlbicsCiAgICAgICAgICAgICAgICAgICAgZmlsbENvbG9yOiAnZ3JlZW4nLAogICAgICAgICAgICAgICAgICAgIGZpbGxPcGFjaXR5OiAwLjYKICAgICAgICAgICAgICAgICAgICB9CiAgICAgICAgICAgICAgICApCiAgICAgICAgICAgICAgICAuYWRkVG8obWFwXzc4OWJiZjVhMzJiNDRmYjE4ZjczMTA0NzAwYmZmNjY5KTsKICAgICAgICAgICAgCiAgICAgICAgCiAgICAgICAgICAgIAoKICAgICAgICAgICAgdmFyIGNpcmNsZV9tYXJrZXJfYzYyMGUxNjAyNDRjNDg2Y2E4YThjOTgzZWM3YjNhM2MgPSBMLmNpcmNsZSgKICAgICAgICAgICAgICAgIFs1MS4wMzc1NDc0LC0xMTQuMDg3MzIxN10sCiAgICAgICAgICAgICAgICAxMDAsCiAgICAgICAgICAgICAgICB7CiAgICAgICAgICAgICAgICAgICAgY29sb3I6ICdncmVlbicsCiAgICAgICAgICAgICAgICAgICAgZmlsbENvbG9yOiAnZ3JlZW4nLAogICAgICAgICAgICAgICAgICAgIGZpbGxPcGFjaXR5OiAwLjYKICAgICAgICAgICAgICAgICAgICB9CiAgICAgICAgICAgICAgICApCiAgICAgICAgICAgICAgICAuYWRkVG8obWFwXzc4OWJiZjVhMzJiNDRmYjE4ZjczMTA0NzAwYmZmNjY5KTsKICAgICAgICAgICAgCiAgICAgICAgCiAgICAgICAgICAgIAoKICAgICAgICAgICAgdmFyIGNpcmNsZV9tYXJrZXJfNTJmMWE1NTA5YmU2NDE4ODk2YjA3Y2YxMTA0MmQzNzUgPSBMLmNpcmNsZSgKICAgICAgICAgICAgICAgIFs1MC45ODc3MDU1LC0xMTQuMDQ0NTMzMl0sCiAgICAgICAgICAgICAgICAxMDAsCiAgICAgICAgICAgICAgICB7CiAgICAgICAgICAgICAgICAgICAgY29sb3I6ICdncmVlbicsCiAgICAgICAgICAgICAgICAgICAgZmlsbENvbG9yOiAnZ3JlZW4nLAogICAgICAgICAgICAgICAgICAgIGZpbGxPcGFjaXR5OiAwLjYKICAgICAgICAgICAgICAgICAgICB9CiAgICAgICAgICAgICAgICApCiAgICAgICAgICAgICAgICAuYWRkVG8obWFwXzc4OWJiZjVhMzJiNDRmYjE4ZjczMTA0NzAwYmZmNjY5KTsKICAgICAgICAgICAgCiAgICAgICAgCiAgICAgICAgICAgIAoKICAgICAgICAgICAgdmFyIGNpcmNsZV9tYXJrZXJfYzRjNDI4ZGYzM2M0NGI1OGI3YmVmZjA1YjVmZjBhNzYgPSBMLmNpcmNsZSgKICAgICAgICAgICAgICAgIFs1MS4wNjM3NzYsLTExMy45NTc3NDEzXSwKICAgICAgICAgICAgICAgIDEwMCwKICAgICAgICAgICAgICAgIHsKICAgICAgICAgICAgICAgICAgICBjb2xvcjogJ2dyZWVuJywKICAgICAgICAgICAgICAgICAgICBmaWxsQ29sb3I6ICdncmVlbicsCiAgICAgICAgICAgICAgICAgICAgZmlsbE9wYWNpdHk6IDAuNgogICAgICAgICAgICAgICAgICAgIH0KICAgICAgICAgICAgICAgICkKICAgICAgICAgICAgICAgIC5hZGRUbyhtYXBfNzg5YmJmNWEzMmI0NGZiMThmNzMxMDQ3MDBiZmY2NjkpOwogICAgICAgICAgICAKICAgICAgICAKICAgICAgICAgICAgCgogICAgICAgICAgICB2YXIgY2lyY2xlX21hcmtlcl8wYTliOTk2NDcyMGY0ZTAyODMzMWQ3YTMyMDVmYjEyYyA9IEwuY2lyY2xlKAogICAgICAgICAgICAgICAgWzUxLjA0NzIyOTMsLTExNC4wODEzNzE3XSwKICAgICAgICAgICAgICAgIDEwMCwKICAgICAgICAgICAgICAgIHsKICAgICAgICAgICAgICAgICAgICBjb2xvcjogJ2dyZWVuJywKICAgICAgICAgICAgICAgICAgICBmaWxsQ29sb3I6ICdncmVlbicsCiAgICAgICAgICAgICAgICAgICAgZmlsbE9wYWNpdHk6IDAuNgogICAgICAgICAgICAgICAgICAgIH0KICAgICAgICAgICAgICAgICkKICAgICAgICAgICAgICAgIC5hZGRUbyhtYXBfNzg5YmJmNWEzMmI0NGZiMThmNzMxMDQ3MDBiZmY2NjkpOwogICAgICAgICAgICAKICAgICAgICAKICAgICAgICAgICAgCgogICAgICAgICAgICB2YXIgY2lyY2xlX21hcmtlcl8wOWZiYzFlZWVmODA0ZTU2OTUwZGRkZmY2MjViZTMwNyA9IEwuY2lyY2xlKAogICAgICAgICAgICAgICAgWzUwLjk2MjcyNDEsLTExNC4wODY0MzM4XSwKICAgICAgICAgICAgICAgIDEwMCwKICAgICAgICAgICAgICAgIHsKICAgICAgICAgICAgICAgICAgICBjb2xvcjogJ2dyZWVuJywKICAgICAgICAgICAgICAgICAgICBmaWxsQ29sb3I6ICdncmVlbicsCiAgICAgICAgICAgICAgICAgICAgZmlsbE9wYWNpdHk6IDAuNgogICAgICAgICAgICAgICAgICAgIH0KICAgICAgICAgICAgICAgICkKICAgICAgICAgICAgICAgIC5hZGRUbyhtYXBfNzg5YmJmNWEzMmI0NGZiMThmNzMxMDQ3MDBiZmY2NjkpOwogICAgICAgICAgICAKICAgICAgICAKICAgICAgICAgICAgCgogICAgICAgICAgICB2YXIgY2lyY2xlX21hcmtlcl85MmU0YTRlODlhY2E0MGFiYjI5N2YyNjAyNzEyMTI0YiA9IEwuY2lyY2xlKAogICAgICAgICAgICAgICAgWzUxLjE0MTk3MDMsLTExNC4xODI2MTY4XSwKICAgICAgICAgICAgICAgIDEwMCwKICAgICAgICAgICAgICAgIHsKICAgICAgICAgICAgICAgICAgICBjb2xvcjogJ2dyZWVuJywKICAgICAgICAgICAgICAgICAgICBmaWxsQ29sb3I6ICdncmVlbicsCiAgICAgICAgICAgICAgICAgICAgZmlsbE9wYWNpdHk6IDAuNgogICAgICAgICAgICAgICAgICAgIH0KICAgICAgICAgICAgICAgICkKICAgICAgICAgICAgICAgIC5hZGRUbyhtYXBfNzg5YmJmNWEzMmI0NGZiMThmNzMxMDQ3MDBiZmY2NjkpOwogICAgICAgICAgICAKICAgICAgICAKICAgICAgICAgICAgCgogICAgICAgICAgICB2YXIgY2lyY2xlX21hcmtlcl8zN2ZmNWU2ZjhjYzU0NTc5OTg5MDJkOTJiNWRkOGNiOSA9IEwuY2lyY2xlKAogICAgICAgICAgICAgICAgWzUxLjEwODQ3ODcsLTExMy45Njc5NTk1XSwKICAgICAgICAgICAgICAgIDEwMCwKICAgICAgICAgICAgICAgIHsKICAgICAgICAgICAgICAgICAgICBjb2xvcjogJ2dyZWVuJywKICAgICAgICAgICAgICAgICAgICBmaWxsQ29sb3I6ICdncmVlbicsCiAgICAgICAgICAgICAgICAgICAgZmlsbE9wYWNpdHk6IDAuNgogICAgICAgICAgICAgICAgICAgIH0KICAgICAgICAgICAgICAgICkKICAgICAgICAgICAgICAgIC5hZGRUbyhtYXBfNzg5YmJmNWEzMmI0NGZiMThmNzMxMDQ3MDBiZmY2NjkpOwogICAgICAgICAgICAKICAgICAgICAKICAgICAgICAgICAgCgogICAgICAgICAgICB2YXIgY2lyY2xlX21hcmtlcl80OWI5YzAxZmRmOWQ0ZjYyOTA1ZTQ0MjI4YTZjYzE2MCA9IEwuY2lyY2xlKAogICAgICAgICAgICAgICAgWzUwLjk2MzcwMDYsLTExNC4wNjAyMjA0XSwKICAgICAgICAgICAgICAgIDEwMCwKICAgICAgICAgICAgICAgIHsKICAgICAgICAgICAgICAgICAgICBjb2xvcjogJ2dyZWVuJywKICAgICAgICAgICAgICAgICAgICBmaWxsQ29sb3I6ICdncmVlbicsCiAgICAgICAgICAgICAgICAgICAgZmlsbE9wYWNpdHk6IDAuNgogICAgICAgICAgICAgICAgICAgIH0KICAgICAgICAgICAgICAgICkKICAgICAgICAgICAgICAgIC5hZGRUbyhtYXBfNzg5YmJmNWEzMmI0NGZiMThmNzMxMDQ3MDBiZmY2NjkpOwogICAgICAgICAgICAKICAgICAgICAKICAgICAgICAgICAgCgogICAgICAgICAgICB2YXIgY2lyY2xlX21hcmtlcl85Nzg5NjNiZWFkNjQ0YmJiOWRkYzJlYTk2YWU3MjJmNyA9IEwuY2lyY2xlKAogICAgICAgICAgICAgICAgWzUxLjA0NjU0MzUsLTExNC4wNTg0MzU3XSwKICAgICAgICAgICAgICAgIDEwMCwKICAgICAgICAgICAgICAgIHsKICAgICAgICAgICAgICAgICAgICBjb2xvcjogJ2dyZWVuJywKICAgICAgICAgICAgICAgICAgICBmaWxsQ29sb3I6ICdncmVlbicsCiAgICAgICAgICAgICAgICAgICAgZmlsbE9wYWNpdHk6IDAuNgogICAgICAgICAgICAgICAgICAgIH0KICAgICAgICAgICAgICAgICkKICAgICAgICAgICAgICAgIC5hZGRUbyhtYXBfNzg5YmJmNWEzMmI0NGZiMThmNzMxMDQ3MDBiZmY2NjkpOwogICAgICAgICAgICAKICAgICAgICAKICAgICAgICAgICAgCgogICAgICAgICAgICB2YXIgY2lyY2xlX21hcmtlcl81N2Y1YjU3YWUxNjM0OWU2YTU4NDg0NGNhZmM3MTlmZCA9IEwuY2lyY2xlKAogICAgICAgICAgICAgICAgWzUxLjA0NjQ1NDIsLTExNC4wNTU4MDMxXSwKICAgICAgICAgICAgICAgIDEwMCwKICAgICAgICAgICAgICAgIHsKICAgICAgICAgICAgICAgICAgICBjb2xvcjogJ2dyZWVuJywKICAgICAgICAgICAgICAgICAgICBmaWxsQ29sb3I6ICdncmVlbicsCiAgICAgICAgICAgICAgICAgICAgZmlsbE9wYWNpdHk6IDAuNgogICAgICAgICAgICAgICAgICAgIH0KICAgICAgICAgICAgICAgICkKICAgICAgICAgICAgICAgIC5hZGRUbyhtYXBfNzg5YmJmNWEzMmI0NGZiMThmNzMxMDQ3MDBiZmY2NjkpOwogICAgICAgICAgICAKICAgICAgICAKICAgICAgICAgICAgCgogICAgICAgICAgICB2YXIgY2lyY2xlX21hcmtlcl83NmI2N2E5ZDBjMDA0ZDY3YWY4MzU3YzZjYTM2M2RkOCA9IEwuY2lyY2xlKAogICAgICAgICAgICAgICAgWzUxLjA0MTg0MTgsLTExNC4wODk0NTgyXSwKICAgICAgICAgICAgICAgIDEwMCwKICAgICAgICAgICAgICAgIHsKICAgICAgICAgICAgICAgICAgICBjb2xvcjogJ2dyZWVuJywKICAgICAgICAgICAgICAgICAgICBmaWxsQ29sb3I6ICdncmVlbicsCiAgICAgICAgICAgICAgICAgICAgZmlsbE9wYWNpdHk6IDAuNgogICAgICAgICAgICAgICAgICAgIH0KICAgICAgICAgICAgICAgICkKICAgICAgICAgICAgICAgIC5hZGRUbyhtYXBfNzg5YmJmNWEzMmI0NGZiMThmNzMxMDQ3MDBiZmY2NjkpOwogICAgICAgICAgICAKICAgICAgICAKICAgICAgICAgICAgCgogICAgICAgICAgICB2YXIgY2lyY2xlX21hcmtlcl9lNjEwMTNiY2Q2NTY0ZDRlYWJhNTg2ZTg1N2Q5ZDUxYyA9IEwuY2lyY2xlKAogICAgICAgICAgICAgICAgWzUxLjE1MTU5MTcsLTExNC4yMTE2OTUxXSwKICAgICAgICAgICAgICAgIDEwMCwKICAgICAgICAgICAgICAgIHsKICAgICAgICAgICAgICAgICAgICBjb2xvcjogJ2dyZWVuJywKICAgICAgICAgICAgICAgICAgICBmaWxsQ29sb3I6ICdncmVlbicsCiAgICAgICAgICAgICAgICAgICAgZmlsbE9wYWNpdHk6IDAuNgogICAgICAgICAgICAgICAgICAgIH0KICAgICAgICAgICAgICAgICkKICAgICAgICAgICAgICAgIC5hZGRUbyhtYXBfNzg5YmJmNWEzMmI0NGZiMThmNzMxMDQ3MDBiZmY2NjkpOwogICAgICAgICAgICAKICAgICAgICAKICAgICAgICAgICAgCgogICAgICAgICAgICB2YXIgY2lyY2xlX21hcmtlcl8xN2ViMTkyNTQzM2M0ODk0OGE3NmI1ZDc0NDUxYzg2MCA9IEwuY2lyY2xlKAogICAgICAgICAgICAgICAgWzUxLjEyNjEwNTIsLTExNC4yMDM4MjIxXSwKICAgICAgICAgICAgICAgIDEwMCwKICAgICAgICAgICAgICAgIHsKICAgICAgICAgICAgICAgICAgICBjb2xvcjogJ2dyZWVuJywKICAgICAgICAgICAgICAgICAgICBmaWxsQ29sb3I6ICdncmVlbicsCiAgICAgICAgICAgICAgICAgICAgZmlsbE9wYWNpdHk6IDAuNgogICAgICAgICAgICAgICAgICAgIH0KICAgICAgICAgICAgICAgICkKICAgICAgICAgICAgICAgIC5hZGRUbyhtYXBfNzg5YmJmNWEzMmI0NGZiMThmNzMxMDQ3MDBiZmY2NjkpOwogICAgICAgICAgICAKICAgICAgICAKICAgICAgICAgICAgCgogICAgICAgICAgICB2YXIgY2lyY2xlX21hcmtlcl84MmVkNmRmN2JmZmQ0MWY5OWZhNWE5OGNlZTQ3NWQ1NyA9IEwuY2lyY2xlKAogICAgICAgICAgICAgICAgWzUxLjAzODE1NzcsLTExMy45Nzc0NjU4XSwKICAgICAgICAgICAgICAgIDEwMCwKICAgICAgICAgICAgICAgIHsKICAgICAgICAgICAgICAgICAgICBjb2xvcjogJ2dyZWVuJywKICAgICAgICAgICAgICAgICAgICBmaWxsQ29sb3I6ICdncmVlbicsCiAgICAgICAgICAgICAgICAgICAgZmlsbE9wYWNpdHk6IDAuNgogICAgICAgICAgICAgICAgICAgIH0KICAgICAgICAgICAgICAgICkKICAgICAgICAgICAgICAgIC5hZGRUbyhtYXBfNzg5YmJmNWEzMmI0NGZiMThmNzMxMDQ3MDBiZmY2NjkpOwogICAgICAgICAgICAKICAgICAgICAKICAgICAgICAgICAgCgogICAgICAgICAgICB2YXIgY2lyY2xlX21hcmtlcl8yYTU0NjQxMDY2MDY0YWQzYmYyNjVlZDVjMDliMTA3OCA9IEwuY2lyY2xlKAogICAgICAgICAgICAgICAgWzUwLjkwNjMyMDksLTExNC4xMTA5MjI0XSwKICAgICAgICAgICAgICAgIDEwMCwKICAgICAgICAgICAgICAgIHsKICAgICAgICAgICAgICAgICAgICBjb2xvcjogJ2dyZWVuJywKICAgICAgICAgICAgICAgICAgICBmaWxsQ29sb3I6ICdncmVlbicsCiAgICAgICAgICAgICAgICAgICAgZmlsbE9wYWNpdHk6IDAuNgogICAgICAgICAgICAgICAgICAgIH0KICAgICAgICAgICAgICAgICkKICAgICAgICAgICAgICAgIC5hZGRUbyhtYXBfNzg5YmJmNWEzMmI0NGZiMThmNzMxMDQ3MDBiZmY2NjkpOwogICAgICAgICAgICAKICAgICAgICAKICAgICAgICAgICAgCgogICAgICAgICAgICB2YXIgY2lyY2xlX21hcmtlcl85MTE0MTRiMmQxZDQ0Mjk1OGEwMDhmYmRjYTg3NDJlNiA9IEwuY2lyY2xlKAogICAgICAgICAgICAgICAgWzUxLjEwNzQyOTMsLTExNC4yNDAwMjIzXSwKICAgICAgICAgICAgICAgIDEwMCwKICAgICAgICAgICAgICAgIHsKICAgICAgICAgICAgICAgICAgICBjb2xvcjogJ2dyZWVuJywKICAgICAgICAgICAgICAgICAgICBmaWxsQ29sb3I6ICdncmVlbicsCiAgICAgICAgICAgICAgICAgICAgZmlsbE9wYWNpdHk6IDAuNgogICAgICAgICAgICAgICAgICAgIH0KICAgICAgICAgICAgICAgICkKICAgICAgICAgICAgICAgIC5hZGRUbyhtYXBfNzg5YmJmNWEzMmI0NGZiMThmNzMxMDQ3MDBiZmY2NjkpOwogICAgICAgICAgICAKICAgICAgICAKICAgICAgICAgICAgCgogICAgICAgICAgICB2YXIgY2lyY2xlX21hcmtlcl8xN2ZjNWY4MDY4ZGE0YWY2YmNiMzM2ZWIzNDRkNjRmYSA9IEwuY2lyY2xlKAogICAgICAgICAgICAgICAgWzUxLjEyNDk0ODgsLTExMy45MzE0NzE2XSwKICAgICAgICAgICAgICAgIDEwMCwKICAgICAgICAgICAgICAgIHsKICAgICAgICAgICAgICAgICAgICBjb2xvcjogJ2dyZWVuJywKICAgICAgICAgICAgICAgICAgICBmaWxsQ29sb3I6ICdncmVlbicsCiAgICAgICAgICAgICAgICAgICAgZmlsbE9wYWNpdHk6IDAuNgogICAgICAgICAgICAgICAgICAgIH0KICAgICAgICAgICAgICAgICkKICAgICAgICAgICAgICAgIC5hZGRUbyhtYXBfNzg5YmJmNWEzMmI0NGZiMThmNzMxMDQ3MDBiZmY2NjkpOwogICAgICAgICAgICAKICAgICAgICAKICAgICAgICAgICAgCgogICAgICAgICAgICB2YXIgY2lyY2xlX21hcmtlcl9hMDQ1ZjZjM2RkMzM0YWI2YTRkYmE4MWFjZWUwODc5NiA9IEwuY2lyY2xlKAogICAgICAgICAgICAgICAgWzUxLjE4NDg0MzgsLTExNC40NzI1MDY5XSwKICAgICAgICAgICAgICAgIDEwMCwKICAgICAgICAgICAgICAgIHsKICAgICAgICAgICAgICAgICAgICBjb2xvcjogJ2dyZWVuJywKICAgICAgICAgICAgICAgICAgICBmaWxsQ29sb3I6ICdncmVlbicsCiAgICAgICAgICAgICAgICAgICAgZmlsbE9wYWNpdHk6IDAuNgogICAgICAgICAgICAgICAgICAgIH0KICAgICAgICAgICAgICAgICkKICAgICAgICAgICAgICAgIC5hZGRUbyhtYXBfNzg5YmJmNWEzMmI0NGZiMThmNzMxMDQ3MDBiZmY2NjkpOwogICAgICAgICAgICAKICAgICAgICAKICAgICAgICAgICAgCgogICAgICAgICAgICB2YXIgY2lyY2xlX21hcmtlcl81ZTYwODU1ZWQ4ZGY0NzllYjYzZDRiMmZiMDY3Y2RjYyA9IEwuY2lyY2xlKAogICAgICAgICAgICAgICAgWzUxLjAxNjkzNTYsLTExNC4xNzM1MjE1XSwKICAgICAgICAgICAgICAgIDEwMCwKICAgICAgICAgICAgICAgIHsKICAgICAgICAgICAgICAgICAgICBjb2xvcjogJ2dyZWVuJywKICAgICAgICAgICAgICAgICAgICBmaWxsQ29sb3I6ICdncmVlbicsCiAgICAgICAgICAgICAgICAgICAgZmlsbE9wYWNpdHk6IDAuNgogICAgICAgICAgICAgICAgICAgIH0KICAgICAgICAgICAgICAgICkKICAgICAgICAgICAgICAgIC5hZGRUbyhtYXBfNzg5YmJmNWEzMmI0NGZiMThmNzMxMDQ3MDBiZmY2NjkpOwogICAgICAgICAgICAKICAgICAgICAKICAgICAgICAgICAgCgogICAgICAgICAgICB2YXIgY2lyY2xlX21hcmtlcl82NmRiNmNkMmIzMjg0ZDEyYTU3ZGEzZDY4MTdmZjBmYSA9IEwuY2lyY2xlKAogICAgICAgICAgICAgICAgWzUxLjAzNzMwOSwtMTEzLjM5MDA2MTRdLAogICAgICAgICAgICAgICAgMTAwLAogICAgICAgICAgICAgICAgewogICAgICAgICAgICAgICAgICAgIGNvbG9yOiAnZ3JlZW4nLAogICAgICAgICAgICAgICAgICAgIGZpbGxDb2xvcjogJ2dyZWVuJywKICAgICAgICAgICAgICAgICAgICBmaWxsT3BhY2l0eTogMC42CiAgICAgICAgICAgICAgICAgICAgfQogICAgICAgICAgICAgICAgKQogICAgICAgICAgICAgICAgLmFkZFRvKG1hcF83ODliYmY1YTMyYjQ0ZmIxOGY3MzEwNDcwMGJmZjY2OSk7CiAgICAgICAgICAgIAogICAgICAgIAogICAgICAgICAgICAKCiAgICAgICAgICAgIHZhciBjaXJjbGVfbWFya2VyXzVjZDRkOTVhZmIxNjQ3ODY5ZWVlZjdiMDczM2Q2ODFlID0gTC5jaXJjbGUoCiAgICAgICAgICAgICAgICBbNTEuMDk3ODk1NCwtMTE0LjE0Mjk5NF0sCiAgICAgICAgICAgICAgICAxMDAsCiAgICAgICAgICAgICAgICB7CiAgICAgICAgICAgICAgICAgICAgY29sb3I6ICdncmVlbicsCiAgICAgICAgICAgICAgICAgICAgZmlsbENvbG9yOiAnZ3JlZW4nLAogICAgICAgICAgICAgICAgICAgIGZpbGxPcGFjaXR5OiAwLjYKICAgICAgICAgICAgICAgICAgICB9CiAgICAgICAgICAgICAgICApCiAgICAgICAgICAgICAgICAuYWRkVG8obWFwXzc4OWJiZjVhMzJiNDRmYjE4ZjczMTA0NzAwYmZmNjY5KTsKICAgICAgICAgICAgCiAgICAgICAgCiAgICAgICAgICAgIAoKICAgICAgICAgICAgdmFyIGNpcmNsZV9tYXJrZXJfMDhlY2U4ODkxNmU0NGEzMDgwOTVjNDBmMmI3OTc1MWIgPSBMLmNpcmNsZSgKICAgICAgICAgICAgICAgIFs1MC45NTMyMDI0LC0xMTQuMTE2ODg0XSwKICAgICAgICAgICAgICAgIDEwMCwKICAgICAgICAgICAgICAgIHsKICAgICAgICAgICAgICAgICAgICBjb2xvcjogJ2dyZWVuJywKICAgICAgICAgICAgICAgICAgICBmaWxsQ29sb3I6ICdncmVlbicsCiAgICAgICAgICAgICAgICAgICAgZmlsbE9wYWNpdHk6IDAuNgogICAgICAgICAgICAgICAgICAgIH0KICAgICAgICAgICAgICAgICkKICAgICAgICAgICAgICAgIC5hZGRUbyhtYXBfNzg5YmJmNWEzMmI0NGZiMThmNzMxMDQ3MDBiZmY2NjkpOwogICAgICAgICAgICAKICAgICAgICAKICAgICAgICAgICAgCgogICAgICAgICAgICB2YXIgY2lyY2xlX21hcmtlcl9iMGYyNmQzYWQxMjQ0ZTM4OGIzZWFmYWJkNzZkNTM1MyA9IEwuY2lyY2xlKAogICAgICAgICAgICAgICAgWzUwLjk5MzY3MywtMTEzLjk1NzQyMDhdLAogICAgICAgICAgICAgICAgMTAwLAogICAgICAgICAgICAgICAgewogICAgICAgICAgICAgICAgICAgIGNvbG9yOiAnZ3JlZW4nLAogICAgICAgICAgICAgICAgICAgIGZpbGxDb2xvcjogJ2dyZWVuJywKICAgICAgICAgICAgICAgICAgICBmaWxsT3BhY2l0eTogMC42CiAgICAgICAgICAgICAgICAgICAgfQogICAgICAgICAgICAgICAgKQogICAgICAgICAgICAgICAgLmFkZFRvKG1hcF83ODliYmY1YTMyYjQ0ZmIxOGY3MzEwNDcwMGJmZjY2OSk7CiAgICAgICAgICAgIAogICAgICAgIAogICAgICAgICAgICAKCiAgICAgICAgICAgIHZhciBjaXJjbGVfbWFya2VyX2UyZWY5ZWU0NTcxYTRhMDFhNmI4MGY0MjZiMTQwMWVhID0gTC5jaXJjbGUoCiAgICAgICAgICAgICAgICBbNTEuMTg5Mjg0NSwtMTE0LjQ3NDgyNzZdLAogICAgICAgICAgICAgICAgMTAwLAogICAgICAgICAgICAgICAgewogICAgICAgICAgICAgICAgICAgIGNvbG9yOiAncmVkJywKICAgICAgICAgICAgICAgICAgICBmaWxsQ29sb3I6ICdyZWQnLAogICAgICAgICAgICAgICAgICAgIGZpbGxPcGFjaXR5OiAwLjYKICAgICAgICAgICAgICAgICAgICB9CiAgICAgICAgICAgICAgICApCiAgICAgICAgICAgICAgICAuYWRkVG8obWFwXzc4OWJiZjVhMzJiNDRmYjE4ZjczMTA0NzAwYmZmNjY5KTsKICAgICAgICAgICAgCiAgICAgICAgCiAgICAgICAgICAgIAoKICAgICAgICAgICAgdmFyIGNpcmNsZV9tYXJrZXJfZjc0MTJiZjNlNTM4NGRlNGFmZjlmMTVhMzhiOWQxMzIgPSBMLmNpcmNsZSgKICAgICAgICAgICAgICAgIFs1MS4xNTY3NzEyLC0xMTQuMTYwMjk2Ml0sCiAgICAgICAgICAgICAgICAxMDAsCiAgICAgICAgICAgICAgICB7CiAgICAgICAgICAgICAgICAgICAgY29sb3I6ICdyZWQnLAogICAgICAgICAgICAgICAgICAgIGZpbGxDb2xvcjogJ3JlZCcsCiAgICAgICAgICAgICAgICAgICAgZmlsbE9wYWNpdHk6IDAuNgogICAgICAgICAgICAgICAgICAgIH0KICAgICAgICAgICAgICAgICkKICAgICAgICAgICAgICAgIC5hZGRUbyhtYXBfNzg5YmJmNWEzMmI0NGZiMThmNzMxMDQ3MDBiZmY2NjkpOwogICAgICAgICAgICAKICAgICAgICAKICAgICAgICAgICAgCgogICAgICAgICAgICB2YXIgY2lyY2xlX21hcmtlcl9lOTM0YThjMzBkY2Q0MGNjOGVjMjg3YjdkYmM5N2Y0ZSA9IEwuY2lyY2xlKAogICAgICAgICAgICAgICAgWzUxLjEyNDA4MDUsLTExNC4yNDY4MzQxXSwKICAgICAgICAgICAgICAgIDEwMCwKICAgICAgICAgICAgICAgIHsKICAgICAgICAgICAgICAgICAgICBjb2xvcjogJ3JlZCcsCiAgICAgICAgICAgICAgICAgICAgZmlsbENvbG9yOiAncmVkJywKICAgICAgICAgICAgICAgICAgICBmaWxsT3BhY2l0eTogMC42CiAgICAgICAgICAgICAgICAgICAgfQogICAgICAgICAgICAgICAgKQogICAgICAgICAgICAgICAgLmFkZFRvKG1hcF83ODliYmY1YTMyYjQ0ZmIxOGY3MzEwNDcwMGJmZjY2OSk7CiAgICAgICAgICAgIAogICAgICAgIAogICAgICAgICAgICAKCiAgICAgICAgICAgIHZhciBjaXJjbGVfbWFya2VyX2ViNzIwZGE4ZmJkOTQxN2U5OTRjZDQ1ZjA2YzZkM2NmID0gTC5jaXJjbGUoCiAgICAgICAgICAgICAgICBbNTEuMDg1MjEyMywtMTE0LjEyNTU4MzhdLAogICAgICAgICAgICAgICAgMTAwLAogICAgICAgICAgICAgICAgewogICAgICAgICAgICAgICAgICAgIGNvbG9yOiAncmVkJywKICAgICAgICAgICAgICAgICAgICBmaWxsQ29sb3I6ICdyZWQnLAogICAgICAgICAgICAgICAgICAgIGZpbGxPcGFjaXR5OiAwLjYKICAgICAgICAgICAgICAgICAgICB9CiAgICAgICAgICAgICAgICApCiAgICAgICAgICAgICAgICAuYWRkVG8obWFwXzc4OWJiZjVhMzJiNDRmYjE4ZjczMTA0NzAwYmZmNjY5KTsKICAgICAgICAgICAgCiAgICAgICAgCiAgICAgICAgICAgIAoKICAgICAgICAgICAgdmFyIGNpcmNsZV9tYXJrZXJfZGY1MDkwNDA2YTM1NGQ3OThmYTRkOWU5MGNhZjgxYzIgPSBMLmNpcmNsZSgKICAgICAgICAgICAgICAgIFs1MS4wNDU1NDM3LC0xMTQuMDcxNDAxNl0sCiAgICAgICAgICAgICAgICAxMDAsCiAgICAgICAgICAgICAgICB7CiAgICAgICAgICAgICAgICAgICAgY29sb3I6ICdyZWQnLAogICAgICAgICAgICAgICAgICAgIGZpbGxDb2xvcjogJ3JlZCcsCiAgICAgICAgICAgICAgICAgICAgZmlsbE9wYWNpdHk6IDAuNgogICAgICAgICAgICAgICAgICAgIH0KICAgICAgICAgICAgICAgICkKICAgICAgICAgICAgICAgIC5hZGRUbyhtYXBfNzg5YmJmNWEzMmI0NGZiMThmNzMxMDQ3MDBiZmY2NjkpOwogICAgICAgICAgICAKICAgICAgICAKICAgICAgICAgICAgCgogICAgICAgICAgICB2YXIgY2lyY2xlX21hcmtlcl83ZGQzMGZmNTM0MDE0NjE2OWE2MmYxMzM4ZmM1NzliZSA9IEwuY2lyY2xlKAogICAgICAgICAgICAgICAgWzUxLjA0MjY5OSwtMTE0LjA3MTMxNjJdLAogICAgICAgICAgICAgICAgMTAwLAogICAgICAgICAgICAgICAgewogICAgICAgICAgICAgICAgICAgIGNvbG9yOiAncmVkJywKICAgICAgICAgICAgICAgICAgICBmaWxsQ29sb3I6ICdyZWQnLAogICAgICAgICAgICAgICAgICAgIGZpbGxPcGFjaXR5OiAwLjYKICAgICAgICAgICAgICAgICAgICB9CiAgICAgICAgICAgICAgICApCiAgICAgICAgICAgICAgICAuYWRkVG8obWFwXzc4OWJiZjVhMzJiNDRmYjE4ZjczMTA0NzAwYmZmNjY5KTsKICAgICAgICAgICAgCiAgICAgICAgCiAgICAgICAgICAgIAoKICAgICAgICAgICAgdmFyIGNpcmNsZV9tYXJrZXJfMzM2NGRlOTJkZGEyNDg2MTgxYjkzYzY4ODM2ZDc4MGYgPSBMLmNpcmNsZSgKICAgICAgICAgICAgICAgIFs1MS4wNDUwMzUzLC0xMTQuMDYyOTg3NV0sCiAgICAgICAgICAgICAgICAxMDAsCiAgICAgICAgICAgICAgICB7CiAgICAgICAgICAgICAgICAgICAgY29sb3I6ICdyZWQnLAogICAgICAgICAgICAgICAgICAgIGZpbGxDb2xvcjogJ3JlZCcsCiAgICAgICAgICAgICAgICAgICAgZmlsbE9wYWNpdHk6IDAuNgogICAgICAgICAgICAgICAgICAgIH0KICAgICAgICAgICAgICAgICkKICAgICAgICAgICAgICAgIC5hZGRUbyhtYXBfNzg5YmJmNWEzMmI0NGZiMThmNzMxMDQ3MDBiZmY2NjkpOwogICAgICAgICAgICAKICAgICAgICAKICAgICAgICAgICAgCgogICAgICAgICAgICB2YXIgY2lyY2xlX21hcmtlcl8wNDQ5Mjc2ZmMzYjk0NzEzOGQ2Njk3ODdlMDI3YjhmZiA9IEwuY2lyY2xlKAogICAgICAgICAgICAgICAgWzUwLjkwNzA3NjUsLTExNC4xMDkwMzMyXSwKICAgICAgICAgICAgICAgIDEwMCwKICAgICAgICAgICAgICAgIHsKICAgICAgICAgICAgICAgICAgICBjb2xvcjogJ3JlZCcsCiAgICAgICAgICAgICAgICAgICAgZmlsbENvbG9yOiAncmVkJywKICAgICAgICAgICAgICAgICAgICBmaWxsT3BhY2l0eTogMC42CiAgICAgICAgICAgICAgICAgICAgfQogICAgICAgICAgICAgICAgKQogICAgICAgICAgICAgICAgLmFkZFRvKG1hcF83ODliYmY1YTMyYjQ0ZmIxOGY3MzEwNDcwMGJmZjY2OSk7CiAgICAgICAgICAgIAogICAgICAgIAogICAgICAgICAgICAKCiAgICAgICAgICAgIHZhciBjaXJjbGVfbWFya2VyXzVlZTU5OTRmMjBkMzQ1OWZhN2UzZWM3YmNjNmUyMDRlID0gTC5jaXJjbGUoCiAgICAgICAgICAgICAgICBbNTAuOTMzMTQ3NiwtMTEzLjk2NzU2MTldLAogICAgICAgICAgICAgICAgMTAwLAogICAgICAgICAgICAgICAgewogICAgICAgICAgICAgICAgICAgIGNvbG9yOiAncmVkJywKICAgICAgICAgICAgICAgICAgICBmaWxsQ29sb3I6ICdyZWQnLAogICAgICAgICAgICAgICAgICAgIGZpbGxPcGFjaXR5OiAwLjYKICAgICAgICAgICAgICAgICAgICB9CiAgICAgICAgICAgICAgICApCiAgICAgICAgICAgICAgICAuYWRkVG8obWFwXzc4OWJiZjVhMzJiNDRmYjE4ZjczMTA0NzAwYmZmNjY5KTsKICAgICAgICAgICAgCiAgICAgICAgCiAgICAgICAgICAgIAoKICAgICAgICAgICAgdmFyIGNpcmNsZV9tYXJrZXJfY2IwNWE3ZmU2YWZjNGEwYjkyMTkzZTU0ZmUyOWM4N2QgPSBMLmNpcmNsZSgKICAgICAgICAgICAgICAgIFs1MS4wNDIxNjk0LC0xMTQuMDgwMzE4XSwKICAgICAgICAgICAgICAgIDEwMCwKICAgICAgICAgICAgICAgIHsKICAgICAgICAgICAgICAgICAgICBjb2xvcjogJ3JlZCcsCiAgICAgICAgICAgICAgICAgICAgZmlsbENvbG9yOiAncmVkJywKICAgICAgICAgICAgICAgICAgICBmaWxsT3BhY2l0eTogMC42CiAgICAgICAgICAgICAgICAgICAgfQogICAgICAgICAgICAgICAgKQogICAgICAgICAgICAgICAgLmFkZFRvKG1hcF83ODliYmY1YTMyYjQ0ZmIxOGY3MzEwNDcwMGJmZjY2OSk7CiAgICAgICAgICAgIAogICAgICAgIAogICAgICAgICAgICAKCiAgICAgICAgICAgIHZhciBjaXJjbGVfbWFya2VyXzJhMjA4YzAyZTRiODRiMGJiOTJhNjY2MWUyYmFhNWU0ID0gTC5jaXJjbGUoCiAgICAgICAgICAgICAgICBbNTEuMDQxMzM4OSwtMTE0LjIxMDI1NjldLAogICAgICAgICAgICAgICAgMTAwLAogICAgICAgICAgICAgICAgewogICAgICAgICAgICAgICAgICAgIGNvbG9yOiAncmVkJywKICAgICAgICAgICAgICAgICAgICBmaWxsQ29sb3I6ICdyZWQnLAogICAgICAgICAgICAgICAgICAgIGZpbGxPcGFjaXR5OiAwLjYKICAgICAgICAgICAgICAgICAgICB9CiAgICAgICAgICAgICAgICApCiAgICAgICAgICAgICAgICAuYWRkVG8obWFwXzc4OWJiZjVhMzJiNDRmYjE4ZjczMTA0NzAwYmZmNjY5KTsKICAgICAgICAgICAgCiAgICAgICAgCiAgICAgICAgICAgIAoKICAgICAgICAgICAgdmFyIGNpcmNsZV9tYXJrZXJfNzI4MDBmMjE5NDYxNGZmM2I0MTQ2YTg2YzcyNDdhODcgPSBMLmNpcmNsZSgKICAgICAgICAgICAgICAgIFs1MC45MTQyODY3LC0xMTQuMDczMTU0M10sCiAgICAgICAgICAgICAgICAxMDAsCiAgICAgICAgICAgICAgICB7CiAgICAgICAgICAgICAgICAgICAgY29sb3I6ICdyZWQnLAogICAgICAgICAgICAgICAgICAgIGZpbGxDb2xvcjogJ3JlZCcsCiAgICAgICAgICAgICAgICAgICAgZmlsbE9wYWNpdHk6IDAuNgogICAgICAgICAgICAgICAgICAgIH0KICAgICAgICAgICAgICAgICkKICAgICAgICAgICAgICAgIC5hZGRUbyhtYXBfNzg5YmJmNWEzMmI0NGZiMThmNzMxMDQ3MDBiZmY2NjkpOwogICAgICAgICAgICAKICAgICAgICAKICAgICAgICAgICAgCgogICAgICAgICAgICB2YXIgY2lyY2xlX21hcmtlcl80YjUxYjRmY2I5MTU0MGM4ODc0NjhlY2NkMzAzYzdkMSA9IEwuY2lyY2xlKAogICAgICAgICAgICAgICAgWzUxLjAzOTc5OTUsLTExNC4wOTQzOTA3XSwKICAgICAgICAgICAgICAgIDEwMCwKICAgICAgICAgICAgICAgIHsKICAgICAgICAgICAgICAgICAgICBjb2xvcjogJ3JlZCcsCiAgICAgICAgICAgICAgICAgICAgZmlsbENvbG9yOiAncmVkJywKICAgICAgICAgICAgICAgICAgICBmaWxsT3BhY2l0eTogMC42CiAgICAgICAgICAgICAgICAgICAgfQogICAgICAgICAgICAgICAgKQogICAgICAgICAgICAgICAgLmFkZFRvKG1hcF83ODliYmY1YTMyYjQ0ZmIxOGY3MzEwNDcwMGJmZjY2OSk7CiAgICAgICAgICAgIAogICAgICAgIAogICAgICAgICAgICAKCiAgICAgICAgICAgIHZhciBjaXJjbGVfbWFya2VyXzhjM2NmOWM0NzY3YzQ0ZTNiM2Q1NzU2ZjQ5MzZhMzhhID0gTC5jaXJjbGUoCiAgICAgICAgICAgICAgICBbNTEuMDU5OTY0LC0xMTQuMjExNDA3NV0sCiAgICAgICAgICAgICAgICAxMDAsCiAgICAgICAgICAgICAgICB7CiAgICAgICAgICAgICAgICAgICAgY29sb3I6ICdyZWQnLAogICAgICAgICAgICAgICAgICAgIGZpbGxDb2xvcjogJ3JlZCcsCiAgICAgICAgICAgICAgICAgICAgZmlsbE9wYWNpdHk6IDAuNgogICAgICAgICAgICAgICAgICAgIH0KICAgICAgICAgICAgICAgICkKICAgICAgICAgICAgICAgIC5hZGRUbyhtYXBfNzg5YmJmNWEzMmI0NGZiMThmNzMxMDQ3MDBiZmY2NjkpOwogICAgICAgICAgICAKICAgICAgICAKICAgICAgICAgICAgCgogICAgICAgICAgICB2YXIgY2lyY2xlX21hcmtlcl81OTA0MWUxMWU2NDY0NmM3OWU5YTE0MmJiOTFjMmM2NCA9IEwuY2lyY2xlKAogICAgICAgICAgICAgICAgWzUxLjE0OTQ1MTMsLTExNC4yMTE2OTc3XSwKICAgICAgICAgICAgICAgIDEwMCwKICAgICAgICAgICAgICAgIHsKICAgICAgICAgICAgICAgICAgICBjb2xvcjogJ3JlZCcsCiAgICAgICAgICAgICAgICAgICAgZmlsbENvbG9yOiAncmVkJywKICAgICAgICAgICAgICAgICAgICBmaWxsT3BhY2l0eTogMC42CiAgICAgICAgICAgICAgICAgICAgfQogICAgICAgICAgICAgICAgKQogICAgICAgICAgICAgICAgLmFkZFRvKG1hcF83ODliYmY1YTMyYjQ0ZmIxOGY3MzEwNDcwMGJmZjY2OSk7CiAgICAgICAgICAgIAogICAgICAgIAogICAgICAgICAgICAKCiAgICAgICAgICAgIHZhciBjaXJjbGVfbWFya2VyX2ZkNWQzYzBhYTY2MDRmNDViYTE2ZWZiZjJiMDYxZDM1ID0gTC5jaXJjbGUoCiAgICAgICAgICAgICAgICBbNTEuMTA0OTY0NCwtMTE0LjE2MDgzMTRdLAogICAgICAgICAgICAgICAgMTAwLAogICAgICAgICAgICAgICAgewogICAgICAgICAgICAgICAgICAgIGNvbG9yOiAncmVkJywKICAgICAgICAgICAgICAgICAgICBmaWxsQ29sb3I6ICdyZWQnLAogICAgICAgICAgICAgICAgICAgIGZpbGxPcGFjaXR5OiAwLjYKICAgICAgICAgICAgICAgICAgICB9CiAgICAgICAgICAgICAgICApCiAgICAgICAgICAgICAgICAuYWRkVG8obWFwXzc4OWJiZjVhMzJiNDRmYjE4ZjczMTA0NzAwYmZmNjY5KTsKICAgICAgICAgICAgCiAgICAgICAgCiAgICAgICAgICAgIAoKICAgICAgICAgICAgdmFyIGNpcmNsZV9tYXJrZXJfZmQ5NDFhOTg1ZDAxNDM1Y2I2MmIzNzQ1ZGQzZDkxYjggPSBMLmNpcmNsZSgKICAgICAgICAgICAgICAgIFs1MS4xMDY0MDU0LC0xMTQuMTYyMzg3NV0sCiAgICAgICAgICAgICAgICAxMDAsCiAgICAgICAgICAgICAgICB7CiAgICAgICAgICAgICAgICAgICAgY29sb3I6ICdyZWQnLAogICAgICAgICAgICAgICAgICAgIGZpbGxDb2xvcjogJ3JlZCcsCiAgICAgICAgICAgICAgICAgICAgZmlsbE9wYWNpdHk6IDAuNgogICAgICAgICAgICAgICAgICAgIH0KICAgICAgICAgICAgICAgICkKICAgICAgICAgICAgICAgIC5hZGRUbyhtYXBfNzg5YmJmNWEzMmI0NGZiMThmNzMxMDQ3MDBiZmY2NjkpOwogICAgICAgICAgICAKICAgICAgICAKICAgICAgICAgICAgCgogICAgICAgICAgICB2YXIgY2lyY2xlX21hcmtlcl8yN2YwMjIzMzkyZTA0ZTc1YTJhNWMyZTBiNDBlMTBmZCA9IEwuY2lyY2xlKAogICAgICAgICAgICAgICAgWzUxLjA5NTczNjMsLTExNC4xNDA0NTZdLAogICAgICAgICAgICAgICAgMTAwLAogICAgICAgICAgICAgICAgewogICAgICAgICAgICAgICAgICAgIGNvbG9yOiAncmVkJywKICAgICAgICAgICAgICAgICAgICBmaWxsQ29sb3I6ICdyZWQnLAogICAgICAgICAgICAgICAgICAgIGZpbGxPcGFjaXR5OiAwLjYKICAgICAgICAgICAgICAgICAgICB9CiAgICAgICAgICAgICAgICApCiAgICAgICAgICAgICAgICAuYWRkVG8obWFwXzc4OWJiZjVhMzJiNDRmYjE4ZjczMTA0NzAwYmZmNjY5KTsKICAgICAgICAgICAgCiAgICAgICAgCiAgICAgICAgICAgIAoKICAgICAgICAgICAgdmFyIGNpcmNsZV9tYXJrZXJfZWI1ZTBiODM2NzRiNDJjNWJlNzY5MDI3MGUxZGI0MjcgPSBMLmNpcmNsZSgKICAgICAgICAgICAgICAgIFs1MC45NjMxNzkyLC0xMTQuMDEwMzIxOF0sCiAgICAgICAgICAgICAgICAxMDAsCiAgICAgICAgICAgICAgICB7CiAgICAgICAgICAgICAgICAgICAgY29sb3I6ICdyZWQnLAogICAgICAgICAgICAgICAgICAgIGZpbGxDb2xvcjogJ3JlZCcsCiAgICAgICAgICAgICAgICAgICAgZmlsbE9wYWNpdHk6IDAuNgogICAgICAgICAgICAgICAgICAgIH0KICAgICAgICAgICAgICAgICkKICAgICAgICAgICAgICAgIC5hZGRUbyhtYXBfNzg5YmJmNWEzMmI0NGZiMThmNzMxMDQ3MDBiZmY2NjkpOwogICAgICAgICAgICAKICAgICAgICAKICAgICAgICAgICAgCgogICAgICAgICAgICB2YXIgY2lyY2xlX21hcmtlcl8wNTM3MmQzM2MyMDM0MmUxOGY5YzE0OTExOGMwNzc0MiA9IEwuY2lyY2xlKAogICAgICAgICAgICAgICAgWzUwLjkzMDg0NTUsLTExNC4wMjc5MDFdLAogICAgICAgICAgICAgICAgMTAwLAogICAgICAgICAgICAgICAgewogICAgICAgICAgICAgICAgICAgIGNvbG9yOiAncmVkJywKICAgICAgICAgICAgICAgICAgICBmaWxsQ29sb3I6ICdyZWQnLAogICAgICAgICAgICAgICAgICAgIGZpbGxPcGFjaXR5OiAwLjYKICAgICAgICAgICAgICAgICAgICB9CiAgICAgICAgICAgICAgICApCiAgICAgICAgICAgICAgICAuYWRkVG8obWFwXzc4OWJiZjVhMzJiNDRmYjE4ZjczMTA0NzAwYmZmNjY5KTsKICAgICAgICAgICAgCiAgICAgICAgCiAgICAgICAgICAgIAoKICAgICAgICAgICAgdmFyIGNpcmNsZV9tYXJrZXJfNGE1MjVjYTU2YmVlNGE4Yjk1NzdlODQxYjMxNzIwMGYgPSBMLmNpcmNsZSgKICAgICAgICAgICAgICAgIFs1MS4wNDE5NzQ1LC0xMTQuMDYwNTA3OV0sCiAgICAgICAgICAgICAgICAxMDAsCiAgICAgICAgICAgICAgICB7CiAgICAgICAgICAgICAgICAgICAgY29sb3I6ICdyZWQnLAogICAgICAgICAgICAgICAgICAgIGZpbGxDb2xvcjogJ3JlZCcsCiAgICAgICAgICAgICAgICAgICAgZmlsbE9wYWNpdHk6IDAuNgogICAgICAgICAgICAgICAgICAgIH0KICAgICAgICAgICAgICAgICkKICAgICAgICAgICAgICAgIC5hZGRUbyhtYXBfNzg5YmJmNWEzMmI0NGZiMThmNzMxMDQ3MDBiZmY2NjkpOwogICAgICAgICAgICAKICAgICAgICAKICAgICAgICAgICAgCgogICAgICAgICAgICB2YXIgY2lyY2xlX21hcmtlcl8yMjc3NGNmYmViOWI0MWE4OTAyNDQ3YWViZTgzMDNjNSA9IEwuY2lyY2xlKAogICAgICAgICAgICAgICAgWzUxLjA3NTI5NCwtMTEzLjk5MTI1MDVdLAogICAgICAgICAgICAgICAgMTAwLAogICAgICAgICAgICAgICAgewogICAgICAgICAgICAgICAgICAgIGNvbG9yOiAncmVkJywKICAgICAgICAgICAgICAgICAgICBmaWxsQ29sb3I6ICdyZWQnLAogICAgICAgICAgICAgICAgICAgIGZpbGxPcGFjaXR5OiAwLjYKICAgICAgICAgICAgICAgICAgICB9CiAgICAgICAgICAgICAgICApCiAgICAgICAgICAgICAgICAuYWRkVG8obWFwXzc4OWJiZjVhMzJiNDRmYjE4ZjczMTA0NzAwYmZmNjY5KTsKICAgICAgICAgICAgCiAgICAgICAgCiAgICAgICAgICAgIAoKICAgICAgICAgICAgdmFyIGNpcmNsZV9tYXJrZXJfMDAzYTI5MWE3ODFkNDUxMWFjZDBlNzIwNDlhYjFkZDkgPSBMLmNpcmNsZSgKICAgICAgICAgICAgICAgIFs1MS4wMjA1MjkzLC0xMTQuMTY5MTUzM10sCiAgICAgICAgICAgICAgICAxMDAsCiAgICAgICAgICAgICAgICB7CiAgICAgICAgICAgICAgICAgICAgY29sb3I6ICdyZWQnLAogICAgICAgICAgICAgICAgICAgIGZpbGxDb2xvcjogJ3JlZCcsCiAgICAgICAgICAgICAgICAgICAgZmlsbE9wYWNpdHk6IDAuNgogICAgICAgICAgICAgICAgICAgIH0KICAgICAgICAgICAgICAgICkKICAgICAgICAgICAgICAgIC5hZGRUbyhtYXBfNzg5YmJmNWEzMmI0NGZiMThmNzMxMDQ3MDBiZmY2NjkpOwogICAgICAgICAgICAKICAgICAgICAKICAgICAgICAgICAgCgogICAgICAgICAgICB2YXIgY2lyY2xlX21hcmtlcl8xOGM1ZjEzZmM2YmM0YzMxYmQ3NjJiZjY5Y2I0Yzg5NSA9IEwuY2lyY2xlKAogICAgICAgICAgICAgICAgWzUxLjA5NzMzNTUsLTExNC4wMzIzNjYyXSwKICAgICAgICAgICAgICAgIDEwMCwKICAgICAgICAgICAgICAgIHsKICAgICAgICAgICAgICAgICAgICBjb2xvcjogJ3JlZCcsCiAgICAgICAgICAgICAgICAgICAgZmlsbENvbG9yOiAncmVkJywKICAgICAgICAgICAgICAgICAgICBmaWxsT3BhY2l0eTogMC42CiAgICAgICAgICAgICAgICAgICAgfQogICAgICAgICAgICAgICAgKQogICAgICAgICAgICAgICAgLmFkZFRvKG1hcF83ODliYmY1YTMyYjQ0ZmIxOGY3MzEwNDcwMGJmZjY2OSk7CiAgICAgICAgICAgIAogICAgICAgIAogICAgICAgICAgICAKCiAgICAgICAgICAgIHZhciBjaXJjbGVfbWFya2VyXzA0ZjdmZmY1YWVkMzQ2M2Y4ZTU0M2YxYWRhMDJkYzYzID0gTC5jaXJjbGUoCiAgICAgICAgICAgICAgICBbNTEuMDMyNTk4NiwtMTE0LjA3MTgyNjVdLAogICAgICAgICAgICAgICAgMTAwLAogICAgICAgICAgICAgICAgewogICAgICAgICAgICAgICAgICAgIGNvbG9yOiAncmVkJywKICAgICAgICAgICAgICAgICAgICBmaWxsQ29sb3I6ICdyZWQnLAogICAgICAgICAgICAgICAgICAgIGZpbGxPcGFjaXR5OiAwLjYKICAgICAgICAgICAgICAgICAgICB9CiAgICAgICAgICAgICAgICApCiAgICAgICAgICAgICAgICAuYWRkVG8obWFwXzc4OWJiZjVhMzJiNDRmYjE4ZjczMTA0NzAwYmZmNjY5KTsKICAgICAgICAgICAgCiAgICAgICAgCiAgICAgICAgICAgIAoKICAgICAgICAgICAgdmFyIGNpcmNsZV9tYXJrZXJfMGYzMTMxMjk4NzYwNDFhM2EyZjU2ZTk4ZmI0ZWRjM2QgPSBMLmNpcmNsZSgKICAgICAgICAgICAgICAgIFs1MS4wNzg5MzE4LC0xMTQuMTM1MTEyMl0sCiAgICAgICAgICAgICAgICAxMDAsCiAgICAgICAgICAgICAgICB7CiAgICAgICAgICAgICAgICAgICAgY29sb3I6ICdyZWQnLAogICAgICAgICAgICAgICAgICAgIGZpbGxDb2xvcjogJ3JlZCcsCiAgICAgICAgICAgICAgICAgICAgZmlsbE9wYWNpdHk6IDAuNgogICAgICAgICAgICAgICAgICAgIH0KICAgICAgICAgICAgICAgICkKICAgICAgICAgICAgICAgIC5hZGRUbyhtYXBfNzg5YmJmNWEzMmI0NGZiMThmNzMxMDQ3MDBiZmY2NjkpOwogICAgICAgICAgICAKICAgICAgICAKICAgICAgICAgICAgCgogICAgICAgICAgICB2YXIgY2lyY2xlX21hcmtlcl8yZTVjNDExZTA4YTI0NGIwODUwNjVkMTk1MzBkOGNmMiA9IEwuY2lyY2xlKAogICAgICAgICAgICAgICAgWzUxLjEyNTI1MDcsLTExNC4xOTg5NDg5XSwKICAgICAgICAgICAgICAgIDEwMCwKICAgICAgICAgICAgICAgIHsKICAgICAgICAgICAgICAgICAgICBjb2xvcjogJ3JlZCcsCiAgICAgICAgICAgICAgICAgICAgZmlsbENvbG9yOiAncmVkJywKICAgICAgICAgICAgICAgICAgICBmaWxsT3BhY2l0eTogMC42CiAgICAgICAgICAgICAgICAgICAgfQogICAgICAgICAgICAgICAgKQogICAgICAgICAgICAgICAgLmFkZFRvKG1hcF83ODliYmY1YTMyYjQ0ZmIxOGY3MzEwNDcwMGJmZjY2OSk7CiAgICAgICAgICAgIAogICAgICAgIAogICAgICAgIAogICAgICAgIDwvc2NyaXB0PgogICAgICAgIA==\" style=\"position:absolute;width:100%;height:100%;left:0;top:0;\"></iframe></div></div>"
      ],
      "text/plain": [
       "<folium.folium.Map at 0x7ff7017cc2e8>"
      ]
     },
     "execution_count": 13,
     "metadata": {},
     "output_type": "execute_result"
    }
   ],
   "source": [
    "#Now we make a plot of the distributions of Tim Hortons and Starbucks in Calgary\n",
    "import folium\n",
    "\n",
    "\n",
    "Calg_COORDINATES = (51, -114)\n",
    "\n",
    "map = folium.Map(location=Calg_COORDINATES, zoom_start=10)\n",
    "\n",
    "#add a marker for every timmies\",\n",
    "for data in Tim_Horton_locations.iterrows():\n",
    "    map.circle_marker(location = [data[1]['lat'],data[1]['lon']], radius = 100, line_color = 'green', \n",
    "                      fill_color='green')\n",
    "    \n",
    "#add a marker for every starbucks\",\n",
    "for data in Stabucks_locations.iterrows():\n",
    "    map.circle_marker(location = [data[1]['lat'],data[1]['lon']], radius = 100, line_color = 'red', \n",
    "                      fill_color='red')\n",
    "\n",
    "path = 'my_map.html'\n",
    "map.create_map(path)\n",
    "\n",
    "map"
   ]
  },
  {
   "cell_type": "code",
   "execution_count": null,
   "metadata": {
    "collapsed": true
   },
   "outputs": [],
   "source": []
  },
  {
   "cell_type": "code",
   "execution_count": 14,
   "metadata": {
    "collapsed": false
   },
   "outputs": [
    {
     "data": {
      "image/png": "[encoded data removed]",
      "text/plain": [
       "<matplotlib.figure.Figure at 0x7ff6d10e2940>"
      ]
     },
     "metadata": {},
     "output_type": "display_data"
    }
   ],
   "source": [
    "#Now make a bar graph to show the number of contributions by contributors\n",
    "import matplotlib.pyplot as plt\n",
    "%matplotlib inline\n",
    "\n",
    "fig = plt.figure()\n",
    "ax = fig.add_subplot(111)\n",
    "\n",
    "data = []\n",
    "\n",
    "for row in Contributions_by_contributor.iterrows():\n",
    "    data.append(row[1]['COUNT(uid)']);\n",
    "\n",
    "plt.xlabel('Number of Contributions');\n",
    "plt.ylabel('Number of Contributors');\n",
    "plt.yscale('log', nonposy='clip')\n",
    "ax.set_ylim(0.5, 800)\n",
    "ax.set_xlim(-10,15000)\n",
    "plt.hist(data, bins=150, facecolor='g');"
   ]
  },
  {
   "cell_type": "code",
   "execution_count": 16,
   "metadata": {
    "collapsed": false
   },
   "outputs": [
    {
     "name": "stdout",
     "output_type": "stream",
     "text": [
      "Total_number_of_tim_hortons =     COUNT(*)\n",
      "0        51\n",
      "Total_number_of_Starbucks =     COUNT(*)\n",
      "0        27\n",
      "Total_contributors =     COUNT(DISTINCT uid)\n",
      "0                  594\n"
     ]
    }
   ],
   "source": [
    "print('Total_number_of_tim_hortons = ',  Total_number_of_tim_hortons)\n",
    "print('Total_number_of_Starbucks = ',  Total_number_of_startbucks)\n",
    "print('Total_contributors = ', Total_contributors)\n",
    "\n"
   ]
  },
  {
   "cell_type": "code",
   "execution_count": null,
   "metadata": {
    "collapsed": true
   },
   "outputs": [],
   "source": []
  },
  {
   "cell_type": "code",
   "execution_count": null,
   "metadata": {
    "collapsed": true
   },
   "outputs": [],
   "source": []
  }
 ],
 "metadata": {
  "kernelspec": {
   "display_name": "Python 3",
   "language": "python",
   "name": "python3"
  },
  "language_info": {
   "codemirror_mode": {
    "name": "ipython",
    "version": 3
   },
   "file_extension": ".py",
   "mimetype": "text/x-python",
   "name": "python",
   "nbconvert_exporter": "python",
   "pygments_lexer": "ipython3",
   "version": "3.5.1"
  }
 },
 "nbformat": 4,
 "nbformat_minor": 0
}
